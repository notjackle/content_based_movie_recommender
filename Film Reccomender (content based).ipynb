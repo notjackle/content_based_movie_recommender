{
 "cells": [
  {
   "cell_type": "markdown",
   "id": "b3e6ffea-9886-40bc-a399-9a1a14c256b4",
   "metadata": {},
   "source": [
    "# Movie similarity function"
   ]
  },
  {
   "cell_type": "markdown",
   "id": "3fe20370-2fd2-4358-895a-e2251936d41a",
   "metadata": {},
   "source": [
    "Instructions:\n",
    "\n",
    "1. pip install -r requirements.txt\n",
    "\n",
    "2. to run the app, cd into the unzipped folder, and run python app.py\n",
    "\n",
    "3. browse to http://localhost:105/Batman/, and form there you can change the movie title\n",
    "\n",
    "4. run/inspect the notebook\n",
    "\n",
    "The Gist of the algo is to embed the plots and the titles, and use their combined embeddings to retrieve the nearest neighbors of each\n",
    "given query movie. Then, the recommendations that do not match the metadata (genre, year, language, country, length) are dropped. The top remainder reocmmendations are returned. See details in the notebook."
   ]
  },
  {
   "cell_type": "code",
   "execution_count": 3,
   "id": "1aa2e161-0d81-491e-bb19-ea4077d6b00d",
   "metadata": {
    "scrolled": true,
    "tags": []
   },
   "outputs": [
    {
     "name": "stdout",
     "output_type": "stream",
     "text": [
      "Requirement already satisfied: pandas in c:\\users\\amnon\\anaconda3\\envs\\main\\lib\\site-packages (from -r requirements.txt (line 1)) (1.4.2)\n",
      "Requirement already satisfied: numpy in c:\\users\\amnon\\anaconda3\\envs\\main\\lib\\site-packages (from -r requirements.txt (line 2)) (1.22.3)\n",
      "Requirement already satisfied: wordcloud in c:\\users\\amnon\\anaconda3\\envs\\main\\lib\\site-packages (from -r requirements.txt (line 3)) (1.8.2.2)\n",
      "Requirement already satisfied: matplotlib in c:\\users\\amnon\\anaconda3\\envs\\main\\lib\\site-packages (from -r requirements.txt (line 4)) (3.6.3)\n",
      "Requirement already satisfied: transformers in c:\\users\\amnon\\anaconda3\\envs\\main\\lib\\site-packages (from -r requirements.txt (line 5)) (4.20.0)\n",
      "Requirement already satisfied: flask in c:\\users\\amnon\\anaconda3\\envs\\main\\lib\\site-packages (from -r requirements.txt (line 6)) (2.2.2)\n",
      "Requirement already satisfied: itables in c:\\users\\amnon\\anaconda3\\envs\\main\\lib\\site-packages (from -r requirements.txt (line 7)) (1.4.4)\n",
      "Requirement already satisfied: scikit-learn in c:\\users\\amnon\\anaconda3\\envs\\main\\lib\\site-packages (from -r requirements.txt (line 8)) (1.2.0)\n",
      "Requirement already satisfied: torch in c:\\users\\amnon\\anaconda3\\envs\\main\\lib\\site-packages (from -r requirements.txt (line 9)) (1.11.0)\n",
      "Requirement already satisfied: python-dateutil>=2.8.1 in c:\\users\\amnon\\anaconda3\\envs\\main\\lib\\site-packages (from pandas->-r requirements.txt (line 1)) (2.8.2)\n",
      "Requirement already satisfied: pytz>=2020.1 in c:\\users\\amnon\\anaconda3\\envs\\main\\lib\\site-packages (from pandas->-r requirements.txt (line 1)) (2022.1)\n",
      "Requirement already satisfied: pillow in c:\\users\\amnon\\anaconda3\\envs\\main\\lib\\site-packages (from wordcloud->-r requirements.txt (line 3)) (9.0.1)\n",
      "Requirement already satisfied: cycler>=0.10 in c:\\users\\amnon\\anaconda3\\envs\\main\\lib\\site-packages (from matplotlib->-r requirements.txt (line 4)) (0.11.0)\n",
      "Requirement already satisfied: contourpy>=1.0.1 in c:\\users\\amnon\\anaconda3\\envs\\main\\lib\\site-packages (from matplotlib->-r requirements.txt (line 4)) (1.0.7)\n",
      "Requirement already satisfied: pyparsing>=2.2.1 in c:\\users\\amnon\\anaconda3\\envs\\main\\lib\\site-packages (from matplotlib->-r requirements.txt (line 4)) (3.0.4)\n",
      "Requirement already satisfied: fonttools>=4.22.0 in c:\\users\\amnon\\anaconda3\\envs\\main\\lib\\site-packages (from matplotlib->-r requirements.txt (line 4)) (4.38.0)\n",
      "Requirement already satisfied: packaging>=20.0 in c:\\users\\amnon\\anaconda3\\envs\\main\\lib\\site-packages (from matplotlib->-r requirements.txt (line 4)) (21.3)\n",
      "Requirement already satisfied: kiwisolver>=1.0.1 in c:\\users\\amnon\\anaconda3\\envs\\main\\lib\\site-packages (from matplotlib->-r requirements.txt (line 4)) (1.4.4)\n",
      "Requirement already satisfied: filelock in c:\\users\\amnon\\anaconda3\\envs\\main\\lib\\site-packages (from transformers->-r requirements.txt (line 5)) (3.7.1)\n",
      "Requirement already satisfied: tokenizers!=0.11.3,<0.13,>=0.11.1 in c:\\users\\amnon\\anaconda3\\envs\\main\\lib\\site-packages (from transformers->-r requirements.txt (line 5)) (0.12.1)\n",
      "Requirement already satisfied: pyyaml>=5.1 in c:\\users\\amnon\\anaconda3\\envs\\main\\lib\\site-packages (from transformers->-r requirements.txt (line 5)) (6.0)\n",
      "Requirement already satisfied: regex!=2019.12.17 in c:\\users\\amnon\\anaconda3\\envs\\main\\lib\\site-packages (from transformers->-r requirements.txt (line 5)) (2022.6.2)\n",
      "Requirement already satisfied: tqdm>=4.27 in c:\\users\\amnon\\anaconda3\\envs\\main\\lib\\site-packages (from transformers->-r requirements.txt (line 5)) (4.64.0)\n",
      "Requirement already satisfied: requests in c:\\users\\amnon\\anaconda3\\envs\\main\\lib\\site-packages (from transformers->-r requirements.txt (line 5)) (2.27.1)\n",
      "Requirement already satisfied: huggingface-hub<1.0,>=0.1.0 in c:\\users\\amnon\\anaconda3\\envs\\main\\lib\\site-packages (from transformers->-r requirements.txt (line 5)) (0.7.0)\n",
      "Requirement already satisfied: Werkzeug>=2.2.2 in c:\\users\\amnon\\anaconda3\\envs\\main\\lib\\site-packages (from flask->-r requirements.txt (line 6)) (2.2.2)\n",
      "Requirement already satisfied: Jinja2>=3.0 in c:\\users\\amnon\\anaconda3\\envs\\main\\lib\\site-packages (from flask->-r requirements.txt (line 6)) (3.0.3)\n",
      "Requirement already satisfied: itsdangerous>=2.0 in c:\\users\\amnon\\anaconda3\\envs\\main\\lib\\site-packages (from flask->-r requirements.txt (line 6)) (2.1.2)\n",
      "Requirement already satisfied: click>=8.0 in c:\\users\\amnon\\anaconda3\\envs\\main\\lib\\site-packages (from flask->-r requirements.txt (line 6)) (8.1.3)\n",
      "Requirement already satisfied: IPython in c:\\users\\amnon\\anaconda3\\envs\\main\\lib\\site-packages (from itables->-r requirements.txt (line 7)) (8.3.0)\n",
      "Requirement already satisfied: joblib>=1.1.1 in c:\\users\\amnon\\anaconda3\\envs\\main\\lib\\site-packages (from scikit-learn->-r requirements.txt (line 8)) (1.2.0)\n",
      "Requirement already satisfied: scipy>=1.3.2 in c:\\users\\amnon\\anaconda3\\envs\\main\\lib\\site-packages (from scikit-learn->-r requirements.txt (line 8)) (1.10.0)\n",
      "Requirement already satisfied: threadpoolctl>=2.0.0 in c:\\users\\amnon\\anaconda3\\envs\\main\\lib\\site-packages (from scikit-learn->-r requirements.txt (line 8)) (3.1.0)\n",
      "Requirement already satisfied: typing_extensions in c:\\users\\amnon\\anaconda3\\envs\\main\\lib\\site-packages (from torch->-r requirements.txt (line 9)) (4.1.1)\n",
      "Requirement already satisfied: colorama in c:\\users\\amnon\\anaconda3\\envs\\main\\lib\\site-packages (from click>=8.0->flask->-r requirements.txt (line 6)) (0.4.4)\n",
      "Requirement already satisfied: MarkupSafe>=2.0 in c:\\users\\amnon\\anaconda3\\envs\\main\\lib\\site-packages (from Jinja2>=3.0->flask->-r requirements.txt (line 6)) (2.1.1)\n",
      "Requirement already satisfied: six>=1.5 in c:\\users\\amnon\\anaconda3\\envs\\main\\lib\\site-packages (from python-dateutil>=2.8.1->pandas->-r requirements.txt (line 1)) (1.16.0)\n",
      "Requirement already satisfied: decorator in c:\\users\\amnon\\anaconda3\\envs\\main\\lib\\site-packages (from IPython->itables->-r requirements.txt (line 7)) (5.1.1)\n",
      "Requirement already satisfied: setuptools>=18.5 in c:\\users\\amnon\\anaconda3\\envs\\main\\lib\\site-packages (from IPython->itables->-r requirements.txt (line 7)) (61.2.0)\n",
      "Requirement already satisfied: matplotlib-inline in c:\\users\\amnon\\anaconda3\\envs\\main\\lib\\site-packages (from IPython->itables->-r requirements.txt (line 7)) (0.1.2)\n",
      "Requirement already satisfied: jedi>=0.16 in c:\\users\\amnon\\anaconda3\\envs\\main\\lib\\site-packages (from IPython->itables->-r requirements.txt (line 7)) (0.18.1)\n",
      "Requirement already satisfied: traitlets>=5 in c:\\users\\amnon\\anaconda3\\envs\\main\\lib\\site-packages (from IPython->itables->-r requirements.txt (line 7)) (5.1.1)\n",
      "Requirement already satisfied: stack-data in c:\\users\\amnon\\anaconda3\\envs\\main\\lib\\site-packages (from IPython->itables->-r requirements.txt (line 7)) (0.2.0)\n",
      "Requirement already satisfied: prompt-toolkit!=3.0.0,!=3.0.1,<3.1.0,>=2.0.0 in c:\\users\\amnon\\anaconda3\\envs\\main\\lib\\site-packages (from IPython->itables->-r requirements.txt (line 7)) (3.0.20)\n",
      "Requirement already satisfied: pickleshare in c:\\users\\amnon\\anaconda3\\envs\\main\\lib\\site-packages (from IPython->itables->-r requirements.txt (line 7)) (0.7.5)\n",
      "Requirement already satisfied: backcall in c:\\users\\amnon\\anaconda3\\envs\\main\\lib\\site-packages (from IPython->itables->-r requirements.txt (line 7)) (0.2.0)\n",
      "Requirement already satisfied: pygments>=2.4.0 in c:\\users\\amnon\\anaconda3\\envs\\main\\lib\\site-packages (from IPython->itables->-r requirements.txt (line 7)) (2.11.2)\n",
      "Requirement already satisfied: charset-normalizer~=2.0.0 in c:\\users\\amnon\\anaconda3\\envs\\main\\lib\\site-packages (from requests->transformers->-r requirements.txt (line 5)) (2.0.4)\n",
      "Requirement already satisfied: urllib3<1.27,>=1.21.1 in c:\\users\\amnon\\anaconda3\\envs\\main\\lib\\site-packages (from requests->transformers->-r requirements.txt (line 5)) (1.26.9)\n",
      "Requirement already satisfied: idna<4,>=2.5 in c:\\users\\amnon\\anaconda3\\envs\\main\\lib\\site-packages (from requests->transformers->-r requirements.txt (line 5)) (3.3)\n",
      "Requirement already satisfied: certifi>=2017.4.17 in c:\\users\\amnon\\anaconda3\\envs\\main\\lib\\site-packages (from requests->transformers->-r requirements.txt (line 5)) (2022.5.18.1)\n",
      "Requirement already satisfied: parso<0.9.0,>=0.8.0 in c:\\users\\amnon\\anaconda3\\envs\\main\\lib\\site-packages (from jedi>=0.16->IPython->itables->-r requirements.txt (line 7)) (0.8.3)\n",
      "Requirement already satisfied: wcwidth in c:\\users\\amnon\\anaconda3\\envs\\main\\lib\\site-packages (from prompt-toolkit!=3.0.0,!=3.0.1,<3.1.0,>=2.0.0->IPython->itables->-r requirements.txt (line 7)) (0.2.5)\n",
      "Requirement already satisfied: asttokens in c:\\users\\amnon\\anaconda3\\envs\\main\\lib\\site-packages (from stack-data->IPython->itables->-r requirements.txt (line 7)) (2.0.5)\n",
      "Requirement already satisfied: pure-eval in c:\\users\\amnon\\anaconda3\\envs\\main\\lib\\site-packages (from stack-data->IPython->itables->-r requirements.txt (line 7)) (0.2.2)\n",
      "Requirement already satisfied: executing in c:\\users\\amnon\\anaconda3\\envs\\main\\lib\\site-packages (from stack-data->IPython->itables->-r requirements.txt (line 7)) (0.8.3)\n"
     ]
    }
   ],
   "source": [
    "! pip install -r requirements.txt"
   ]
  },
  {
   "cell_type": "code",
   "execution_count": 4,
   "id": "988a0437-e5b3-4e92-a829-851c7451412e",
   "metadata": {},
   "outputs": [
    {
     "name": "stderr",
     "output_type": "stream",
     "text": [
      "C:\\Users\\amnon\\anaconda3\\envs\\main\\lib\\site-packages\\tqdm\\auto.py:22: TqdmWarning: IProgress not found. Please update jupyter and ipywidgets. See https://ipywidgets.readthedocs.io/en/stable/user_install.html\n",
      "  from .autonotebook import tqdm as notebook_tqdm\n"
     ]
    }
   ],
   "source": [
    "import pandas as pd\n",
    "import numpy as np\n",
    "from collections import Counter\n",
    "from wordcloud import WordCloud\n",
    "import matplotlib.pyplot as plt\n",
    "from typing import Iterable, List, Set, Dict, Tuple\n",
    "from transformers import AutoTokenizer, AutoModel\n",
    "import torch\n",
    "import torch.nn.functional as F\n",
    "from flask import Flask\n",
    "from flask import jsonify\n",
    "import os\n",
    "import re\n",
    "# from itables import init_notebook_mode, show\n",
    "from collections import defaultdict\n",
    "from sklearn.decomposition import PCA\n",
    "import pickle"
   ]
  },
  {
   "cell_type": "markdown",
   "id": "838d1550-7132-46d3-afc6-ca42f27049e3",
   "metadata": {},
   "source": [
    "# Load data, initial exploration"
   ]
  },
  {
   "cell_type": "code",
   "execution_count": 5,
   "id": "ea843776-2ef4-473f-8184-89a89c05dbc2",
   "metadata": {},
   "outputs": [],
   "source": [
    "train_path = 'train.json'"
   ]
  },
  {
   "cell_type": "code",
   "execution_count": 6,
   "id": "015ac0f4-cdea-4b64-a7d7-5f63d070cdf7",
   "metadata": {},
   "outputs": [
    {
     "data": {
      "text/html": [
       "<div>\n",
       "<style scoped>\n",
       "    .dataframe tbody tr th:only-of-type {\n",
       "        vertical-align: middle;\n",
       "    }\n",
       "\n",
       "    .dataframe tbody tr th {\n",
       "        vertical-align: top;\n",
       "    }\n",
       "\n",
       "    .dataframe thead th {\n",
       "        text-align: right;\n",
       "    }\n",
       "</style>\n",
       "<table border=\"1\" class=\"dataframe\">\n",
       "  <thead>\n",
       "    <tr style=\"text-align: right;\">\n",
       "      <th></th>\n",
       "      <th>languages</th>\n",
       "      <th>genres</th>\n",
       "      <th>title</th>\n",
       "      <th>release_date</th>\n",
       "      <th>countries</th>\n",
       "      <th>movie_box_office_revenue</th>\n",
       "      <th>plot_summary</th>\n",
       "      <th>feature_length</th>\n",
       "    </tr>\n",
       "  </thead>\n",
       "  <tbody>\n",
       "    <tr>\n",
       "      <th>0</th>\n",
       "      <td>{'/m/07c9s': 'Tamil Language'}</td>\n",
       "      <td>{'/m/07s9rl0': 'Drama'}</td>\n",
       "      <td>Periya Idathu Penn</td>\n",
       "      <td>1963</td>\n",
       "      <td>{'/m/03rk0': 'India'}</td>\n",
       "      <td></td>\n",
       "      <td>Murugappa  is a small time farm labourer who l...</td>\n",
       "      <td></td>\n",
       "    </tr>\n",
       "    <tr>\n",
       "      <th>1</th>\n",
       "      <td>{'/m/02h40lc': 'English Language'}</td>\n",
       "      <td>{'/m/01jfsb': 'Thriller', '/m/02n4kr': 'Myster...</td>\n",
       "      <td>The Flock</td>\n",
       "      <td>2007</td>\n",
       "      <td>{'/m/09c7w0': 'United States of America'}</td>\n",
       "      <td></td>\n",
       "      <td>A hyper-vigilant agent of the Department of Pu...</td>\n",
       "      <td>96.0</td>\n",
       "    </tr>\n",
       "    <tr>\n",
       "      <th>2</th>\n",
       "      <td>{'/m/03k50': 'Hindi Language'}</td>\n",
       "      <td>{'/m/02kdv5l': 'Action', '/m/07s9rl0': 'Drama'}</td>\n",
       "      <td>Gang</td>\n",
       "      <td>2000-04-14</td>\n",
       "      <td>{'/m/03rk0': 'India'}</td>\n",
       "      <td></td>\n",
       "      <td>Four friends- Gangu , Abdul , Nihal  and Gary ...</td>\n",
       "      <td></td>\n",
       "    </tr>\n",
       "    <tr>\n",
       "      <th>3</th>\n",
       "      <td>{'/m/07qv_': 'Tagalog language', '/m/01jb8r': ...</td>\n",
       "      <td>{'/m/0hn10': 'LGBT', '/m/07s9rl0': 'Drama', '/...</td>\n",
       "      <td>Daybreak</td>\n",
       "      <td>2008-02-20</td>\n",
       "      <td>{'/m/05v8c': 'Philippines'}</td>\n",
       "      <td></td>\n",
       "      <td>A married man is having an affair with another...</td>\n",
       "      <td>85.0</td>\n",
       "    </tr>\n",
       "    <tr>\n",
       "      <th>4</th>\n",
       "      <td>{'/m/02h40lc': 'English Language'}</td>\n",
       "      <td>{'/m/06cvj': 'Romantic comedy', '/m/02l7c8': '...</td>\n",
       "      <td>Tomboy</td>\n",
       "      <td>1985-01-25</td>\n",
       "      <td>{'/m/09c7w0': 'United States of America'}</td>\n",
       "      <td>14100000</td>\n",
       "      <td>The movie concerns the life of Tomasina \"Tommy...</td>\n",
       "      <td>91.0</td>\n",
       "    </tr>\n",
       "  </tbody>\n",
       "</table>\n",
       "</div>"
      ],
      "text/plain": [
       "                                           languages  \\\n",
       "0                     {'/m/07c9s': 'Tamil Language'}   \n",
       "1                 {'/m/02h40lc': 'English Language'}   \n",
       "2                     {'/m/03k50': 'Hindi Language'}   \n",
       "3  {'/m/07qv_': 'Tagalog language', '/m/01jb8r': ...   \n",
       "4                 {'/m/02h40lc': 'English Language'}   \n",
       "\n",
       "                                              genres               title  \\\n",
       "0                            {'/m/07s9rl0': 'Drama'}  Periya Idathu Penn   \n",
       "1  {'/m/01jfsb': 'Thriller', '/m/02n4kr': 'Myster...           The Flock   \n",
       "2    {'/m/02kdv5l': 'Action', '/m/07s9rl0': 'Drama'}                Gang   \n",
       "3  {'/m/0hn10': 'LGBT', '/m/07s9rl0': 'Drama', '/...            Daybreak   \n",
       "4  {'/m/06cvj': 'Romantic comedy', '/m/02l7c8': '...              Tomboy   \n",
       "\n",
       "  release_date                                  countries  \\\n",
       "0         1963                      {'/m/03rk0': 'India'}   \n",
       "1         2007  {'/m/09c7w0': 'United States of America'}   \n",
       "2   2000-04-14                      {'/m/03rk0': 'India'}   \n",
       "3   2008-02-20                {'/m/05v8c': 'Philippines'}   \n",
       "4   1985-01-25  {'/m/09c7w0': 'United States of America'}   \n",
       "\n",
       "  movie_box_office_revenue                                       plot_summary  \\\n",
       "0                           Murugappa  is a small time farm labourer who l...   \n",
       "1                           A hyper-vigilant agent of the Department of Pu...   \n",
       "2                           Four friends- Gangu , Abdul , Nihal  and Gary ...   \n",
       "3                           A married man is having an affair with another...   \n",
       "4                 14100000  The movie concerns the life of Tomasina \"Tommy...   \n",
       "\n",
       "  feature_length  \n",
       "0                 \n",
       "1           96.0  \n",
       "2                 \n",
       "3           85.0  \n",
       "4           91.0  "
      ]
     },
     "execution_count": 6,
     "metadata": {},
     "output_type": "execute_result"
    }
   ],
   "source": [
    "df = pd.read_json(train_path, lines=True)\n",
    "df.head()"
   ]
  },
  {
   "cell_type": "code",
   "execution_count": 7,
   "id": "21c24420-fa02-4899-a59c-32192cb9fc10",
   "metadata": {},
   "outputs": [
    {
     "data": {
      "text/html": [
       "<div>\n",
       "<style scoped>\n",
       "    .dataframe tbody tr th:only-of-type {\n",
       "        vertical-align: middle;\n",
       "    }\n",
       "\n",
       "    .dataframe tbody tr th {\n",
       "        vertical-align: top;\n",
       "    }\n",
       "\n",
       "    .dataframe thead th {\n",
       "        text-align: right;\n",
       "    }\n",
       "</style>\n",
       "<table border=\"1\" class=\"dataframe\">\n",
       "  <thead>\n",
       "    <tr style=\"text-align: right;\">\n",
       "      <th></th>\n",
       "      <th>languages</th>\n",
       "      <th>genres</th>\n",
       "      <th>title</th>\n",
       "      <th>release_date</th>\n",
       "      <th>countries</th>\n",
       "      <th>movie_box_office_revenue</th>\n",
       "      <th>plot_summary</th>\n",
       "      <th>feature_length</th>\n",
       "    </tr>\n",
       "  </thead>\n",
       "  <tbody>\n",
       "    <tr>\n",
       "      <th>count</th>\n",
       "      <td>29922</td>\n",
       "      <td>29922</td>\n",
       "      <td>29922</td>\n",
       "      <td>29922</td>\n",
       "      <td>29922</td>\n",
       "      <td>29922</td>\n",
       "      <td>30000</td>\n",
       "      <td>29922</td>\n",
       "    </tr>\n",
       "    <tr>\n",
       "      <th>unique</th>\n",
       "      <td>1065</td>\n",
       "      <td>12691</td>\n",
       "      <td>28703</td>\n",
       "      <td>10661</td>\n",
       "      <td>1156</td>\n",
       "      <td>4835</td>\n",
       "      <td>29992</td>\n",
       "      <td>376</td>\n",
       "    </tr>\n",
       "    <tr>\n",
       "      <th>top</th>\n",
       "      <td>{'/m/02h40lc': 'English Language'}</td>\n",
       "      <td>{'/m/07s9rl0': 'Drama'}</td>\n",
       "      <td>I Love You</td>\n",
       "      <td></td>\n",
       "      <td>{'/m/09c7w0': 'United States of America'}</td>\n",
       "      <td></td>\n",
       "      <td>A woman is thrown out of her home by her jealo...</td>\n",
       "      <td></td>\n",
       "    </tr>\n",
       "    <tr>\n",
       "      <th>freq</th>\n",
       "      <td>14631</td>\n",
       "      <td>1882</td>\n",
       "      <td>7</td>\n",
       "      <td>1861</td>\n",
       "      <td>12571</td>\n",
       "      <td>24543</td>\n",
       "      <td>5</td>\n",
       "      <td>4667</td>\n",
       "    </tr>\n",
       "  </tbody>\n",
       "</table>\n",
       "</div>"
      ],
      "text/plain": [
       "                                 languages                   genres  \\\n",
       "count                                29922                    29922   \n",
       "unique                                1065                    12691   \n",
       "top     {'/m/02h40lc': 'English Language'}  {'/m/07s9rl0': 'Drama'}   \n",
       "freq                                 14631                     1882   \n",
       "\n",
       "             title release_date                                  countries  \\\n",
       "count        29922        29922                                      29922   \n",
       "unique       28703        10661                                       1156   \n",
       "top     I Love You               {'/m/09c7w0': 'United States of America'}   \n",
       "freq             7         1861                                      12571   \n",
       "\n",
       "       movie_box_office_revenue  \\\n",
       "count                     29922   \n",
       "unique                     4835   \n",
       "top                               \n",
       "freq                      24543   \n",
       "\n",
       "                                             plot_summary feature_length  \n",
       "count                                               30000          29922  \n",
       "unique                                              29992            376  \n",
       "top     A woman is thrown out of her home by her jealo...                 \n",
       "freq                                                    5           4667  "
      ]
     },
     "execution_count": 7,
     "metadata": {},
     "output_type": "execute_result"
    }
   ],
   "source": [
    "df.describe()"
   ]
  },
  {
   "cell_type": "code",
   "execution_count": 8,
   "id": "7e53827e-8c26-491c-8940-431def47b21d",
   "metadata": {},
   "outputs": [
    {
     "name": "stdout",
     "output_type": "stream",
     "text": [
      "<class 'pandas.core.frame.DataFrame'>\n",
      "RangeIndex: 30000 entries, 0 to 29999\n",
      "Data columns (total 8 columns):\n",
      " #   Column                    Non-Null Count  Dtype \n",
      "---  ------                    --------------  ----- \n",
      " 0   languages                 29922 non-null  object\n",
      " 1   genres                    29922 non-null  object\n",
      " 2   title                     29922 non-null  object\n",
      " 3   release_date              29922 non-null  object\n",
      " 4   countries                 29922 non-null  object\n",
      " 5   movie_box_office_revenue  29922 non-null  object\n",
      " 6   plot_summary              30000 non-null  object\n",
      " 7   feature_length            29922 non-null  object\n",
      "dtypes: object(8)\n",
      "memory usage: 1.8+ MB\n"
     ]
    }
   ],
   "source": [
    "df.info()"
   ]
  },
  {
   "cell_type": "markdown",
   "id": "d07e7cc0-1f6a-4f87-9cd6-9c4b87a88d3b",
   "metadata": {},
   "source": [
    "## Shuffle the data, it's useful for a few sampling operations later on"
   ]
  },
  {
   "cell_type": "code",
   "execution_count": 9,
   "id": "90478fba-5002-4a23-976f-7bcd4bff9a3e",
   "metadata": {},
   "outputs": [],
   "source": [
    "df = df.sample(frac=1.0, random_state=7)"
   ]
  },
  {
   "cell_type": "markdown",
   "id": "429b817c-ccb4-4ec9-912e-18da1426118e",
   "metadata": {},
   "source": [
    "#  Clean Data"
   ]
  },
  {
   "cell_type": "markdown",
   "id": "960777ec-b197-4ff9-b143-01631b8a3aca",
   "metadata": {},
   "source": [
    "## Language"
   ]
  },
  {
   "cell_type": "markdown",
   "id": "7702776f-84de-463c-89aa-3f5b9ee112e5",
   "metadata": {},
   "source": [
    "See that there are many NaNs"
   ]
  },
  {
   "cell_type": "code",
   "execution_count": 10,
   "id": "177cc4c9-e23b-4dc1-8676-34fd0b796cfe",
   "metadata": {},
   "outputs": [
    {
     "data": {
      "text/plain": [
       "24448    NaN\n",
       "17502    NaN\n",
       "24146    NaN\n",
       "13789    NaN\n",
       "3343     NaN\n",
       "        ... \n",
       "15941    NaN\n",
       "1590     NaN\n",
       "12953    NaN\n",
       "17237    NaN\n",
       "17954    NaN\n",
       "Name: languages, Length: 78, dtype: object"
      ]
     },
     "execution_count": 10,
     "metadata": {},
     "output_type": "execute_result"
    }
   ],
   "source": [
    "df.languages[df.languages.isna()]"
   ]
  },
  {
   "cell_type": "code",
   "execution_count": 11,
   "id": "09b70bdc-046a-4b66-b1ad-47940963d684",
   "metadata": {},
   "outputs": [],
   "source": [
    "def clean_tags(d: dict):\n",
    "    \"\"\"\n",
    "    clean up tag columns like langauges, genres and countires\n",
    "    \"\"\"\n",
    "    if pd.isna(d):\n",
    "        return []\n",
    "    return [re.sub(r' language| films?| movies?', '', s, flags=re.IGNORECASE) for s in d.values()]"
   ]
  },
  {
   "cell_type": "code",
   "execution_count": 12,
   "id": "3daf818d-95c8-46c7-82a2-1f93c6a3f6f4",
   "metadata": {},
   "outputs": [],
   "source": [
    "df['languages'] = df.languages.map(clean_tags)"
   ]
  },
  {
   "cell_type": "code",
   "execution_count": 13,
   "id": "96ebec26-d635-4552-83da-ac2609b1a8ec",
   "metadata": {},
   "outputs": [
    {
     "data": {
      "text/html": [
       "<div>\n",
       "<style scoped>\n",
       "    .dataframe tbody tr th:only-of-type {\n",
       "        vertical-align: middle;\n",
       "    }\n",
       "\n",
       "    .dataframe tbody tr th {\n",
       "        vertical-align: top;\n",
       "    }\n",
       "\n",
       "    .dataframe thead th {\n",
       "        text-align: right;\n",
       "    }\n",
       "</style>\n",
       "<table border=\"1\" class=\"dataframe\">\n",
       "  <thead>\n",
       "    <tr style=\"text-align: right;\">\n",
       "      <th></th>\n",
       "      <th>languages</th>\n",
       "      <th>genres</th>\n",
       "      <th>title</th>\n",
       "      <th>release_date</th>\n",
       "      <th>countries</th>\n",
       "      <th>movie_box_office_revenue</th>\n",
       "      <th>plot_summary</th>\n",
       "      <th>feature_length</th>\n",
       "    </tr>\n",
       "  </thead>\n",
       "  <tbody>\n",
       "    <tr>\n",
       "      <th>1252</th>\n",
       "      <td>[Bengali]</td>\n",
       "      <td>{'/m/01jfsb': 'Thriller', '/m/02n4kr': 'Mystery'}</td>\n",
       "      <td>Chiriyakhana</td>\n",
       "      <td>1967</td>\n",
       "      <td>{'/m/03rk0': 'India'}</td>\n",
       "      <td></td>\n",
       "      <td>The story revolves around a retired judge, Mr....</td>\n",
       "      <td>125.0</td>\n",
       "    </tr>\n",
       "    <tr>\n",
       "      <th>10444</th>\n",
       "      <td>[Telugu]</td>\n",
       "      <td>{'/m/02l7c8': 'Romance Film', '/m/03q4nz': 'Wo...</td>\n",
       "      <td>Samba</td>\n",
       "      <td>2004-06-09</td>\n",
       "      <td>{'/m/03rk0': 'India'}</td>\n",
       "      <td></td>\n",
       "      <td>Dharmayya Naidu  a underworld kingpin who lost...</td>\n",
       "      <td>145.0</td>\n",
       "    </tr>\n",
       "    <tr>\n",
       "      <th>8994</th>\n",
       "      <td>[English]</td>\n",
       "      <td>{'/m/0hfjk': 'Western'}</td>\n",
       "      <td>Born Reckless</td>\n",
       "      <td>1958-11</td>\n",
       "      <td>{'/m/09c7w0': 'United States of America'}</td>\n",
       "      <td></td>\n",
       "      <td>Kelly Cobb travels and performs in various cou...</td>\n",
       "      <td>80.0</td>\n",
       "    </tr>\n",
       "    <tr>\n",
       "      <th>7463</th>\n",
       "      <td>[French, Polish, English]</td>\n",
       "      <td>{'/m/02l7c8': 'Romance Film', '/m/07s9rl0': 'D...</td>\n",
       "      <td>Story of O</td>\n",
       "      <td>1975-08-26</td>\n",
       "      <td>{'/m/0f8l9c': 'France', '/m/0d060g': 'Canada',...</td>\n",
       "      <td></td>\n",
       "      <td>A young woman fashion photographer known only ...</td>\n",
       "      <td>105.0</td>\n",
       "    </tr>\n",
       "    <tr>\n",
       "      <th>1910</th>\n",
       "      <td>[Tamil]</td>\n",
       "      <td>{'/m/07s9rl0': 'Drama'}</td>\n",
       "      <td>Needhikku Thalaivanangu</td>\n",
       "      <td>1976-03-18</td>\n",
       "      <td>{'/m/03rk0': 'India'}</td>\n",
       "      <td></td>\n",
       "      <td>MGR acted as a college student who is very muc...</td>\n",
       "      <td></td>\n",
       "    </tr>\n",
       "  </tbody>\n",
       "</table>\n",
       "</div>"
      ],
      "text/plain": [
       "                       languages  \\\n",
       "1252                   [Bengali]   \n",
       "10444                   [Telugu]   \n",
       "8994                   [English]   \n",
       "7463   [French, Polish, English]   \n",
       "1910                     [Tamil]   \n",
       "\n",
       "                                                  genres  \\\n",
       "1252   {'/m/01jfsb': 'Thriller', '/m/02n4kr': 'Mystery'}   \n",
       "10444  {'/m/02l7c8': 'Romance Film', '/m/03q4nz': 'Wo...   \n",
       "8994                             {'/m/0hfjk': 'Western'}   \n",
       "7463   {'/m/02l7c8': 'Romance Film', '/m/07s9rl0': 'D...   \n",
       "1910                             {'/m/07s9rl0': 'Drama'}   \n",
       "\n",
       "                         title release_date  \\\n",
       "1252              Chiriyakhana         1967   \n",
       "10444                    Samba   2004-06-09   \n",
       "8994             Born Reckless      1958-11   \n",
       "7463                Story of O   1975-08-26   \n",
       "1910   Needhikku Thalaivanangu   1976-03-18   \n",
       "\n",
       "                                               countries  \\\n",
       "1252                               {'/m/03rk0': 'India'}   \n",
       "10444                              {'/m/03rk0': 'India'}   \n",
       "8994           {'/m/09c7w0': 'United States of America'}   \n",
       "7463   {'/m/0f8l9c': 'France', '/m/0d060g': 'Canada',...   \n",
       "1910                               {'/m/03rk0': 'India'}   \n",
       "\n",
       "      movie_box_office_revenue  \\\n",
       "1252                             \n",
       "10444                            \n",
       "8994                             \n",
       "7463                             \n",
       "1910                             \n",
       "\n",
       "                                            plot_summary feature_length  \n",
       "1252   The story revolves around a retired judge, Mr....          125.0  \n",
       "10444  Dharmayya Naidu  a underworld kingpin who lost...          145.0  \n",
       "8994   Kelly Cobb travels and performs in various cou...           80.0  \n",
       "7463   A young woman fashion photographer known only ...          105.0  \n",
       "1910   MGR acted as a college student who is very muc...                 "
      ]
     },
     "execution_count": 13,
     "metadata": {},
     "output_type": "execute_result"
    }
   ],
   "source": [
    "df.head()"
   ]
  },
  {
   "cell_type": "code",
   "execution_count": 14,
   "id": "706526c6-deb5-4f02-bf23-4880bdef623b",
   "metadata": {
    "scrolled": true,
    "tags": []
   },
   "outputs": [
    {
     "data": {
      "text/plain": [
       "Counter({'Bengali': 180,\n",
       "         'Telugu': 473,\n",
       "         'English': 17588,\n",
       "         'French': 1388,\n",
       "         'Polish': 96,\n",
       "         'Tamil': 795,\n",
       "         'Silent': 623,\n",
       "         'Spanish': 1033,\n",
       "         'Portuguese': 137,\n",
       "         'Punjabi': 65,\n",
       "         'Bulgarian': 23,\n",
       "         'Italian': 700,\n",
       "         'Uzbek': 6,\n",
       "         'Russian': 451,\n",
       "         'Cantonese': 428,\n",
       "         'Korean': 464,\n",
       "         'Japanese': 914,\n",
       "         'Standard Mandarin': 550,\n",
       "         'Finnish': 60,\n",
       "         'Ukrainian': 22,\n",
       "         'Malayalam': 547,\n",
       "         'Hindi': 1581,\n",
       "         'Chinese': 55,\n",
       "         'German': 719,\n",
       "         'Belarusian': 3,\n",
       "         'Quechua': 6,\n",
       "         'Marathi': 32,\n",
       "         'Xhosa': 11,\n",
       "         'Chechen': 2,\n",
       "         'Turkish': 87,\n",
       "         'Swedish': 152,\n",
       "         'Icelandic': 23,\n",
       "         'Albanian': 17,\n",
       "         'Macedonian': 8,\n",
       "         'Thai': 129,\n",
       "         'Tagalog': 161,\n",
       "         'Standard Cantonese': 249,\n",
       "         'Czech': 72,\n",
       "         'Urdu': 166,\n",
       "         'American English': 55,\n",
       "         'Bosnian': 9,\n",
       "         'Latin': 62,\n",
       "         'Arabic': 224,\n",
       "         'Dutch': 108,\n",
       "         'Indonesian': 48,\n",
       "         'Oriya': 25,\n",
       "         'Georgian': 11,\n",
       "         'Malay': 47,\n",
       "         'Mandarin Chinese': 158,\n",
       "         'Vietnamese': 36,\n",
       "         'Norwegian': 50,\n",
       "         'Brazilian Portuguese': 5,\n",
       "         'Kannada': 117,\n",
       "         'Hebrew': 101,\n",
       "         'Serbo-Croatian': 37,\n",
       "         'Serbian': 55,\n",
       "         'Slovenian': 8,\n",
       "         '𐐖𐐲𐑉𐑋𐑌𐐲': 3,\n",
       "         'Filipino': 73,\n",
       "         'Danish': 77,\n",
       "         'Tzotzil': 1,\n",
       "         'Maya, Yucatán': 4,\n",
       "         'Nahuatls': 3,\n",
       "         'Kuna': 1,\n",
       "         'Assamese': 16,\n",
       "         'Chhattisgarhi': 1,\n",
       "         'Nepali': 13,\n",
       "         'Bhojpuri': 8,\n",
       "         'Gujarati': 11,\n",
       "         'Rajasthani': 4,\n",
       "         'Greek': 81,\n",
       "         'Hokkien': 13,\n",
       "         'Kurdish': 16,\n",
       "         'Tibetans': 8,\n",
       "         'Sanskrit': 4,\n",
       "         'Hmong': 2,\n",
       "         'Mongolian': 4,\n",
       "         'Persian': 74,\n",
       "         'Sinhala': 26,\n",
       "         'Khmer': 27,\n",
       "         'Hungarian': 48,\n",
       "         'Shanghainese': 9,\n",
       "         'Amharic': 5,\n",
       "         'Pashto': 8,\n",
       "         'French Sign': 4,\n",
       "         'Yiddish': 23,\n",
       "         'Swiss German': 7,\n",
       "         'Croatian': 18,\n",
       "         'Chadian Arabic': 2,\n",
       "         'Irish': 18,\n",
       "         'Romanian': 40,\n",
       "         'Welsh': 9,\n",
       "         'South African English': 7,\n",
       "         'Esperanto': 4,\n",
       "         'Zulu': 10,\n",
       "         'Frisian, Western': 1,\n",
       "         'Taiwanese': 14,\n",
       "         'American Sign': 22,\n",
       "         'Catalan': 16,\n",
       "         'Swahili': 22,\n",
       "         'Romani': 9,\n",
       "         'Standard Tibetan': 7,\n",
       "         'Saami, North': 1,\n",
       "         'Samis': 2,\n",
       "         'Min Nan': 11,\n",
       "         'France': 9,\n",
       "         'Tamang': 1,\n",
       "         'Japan': 2,\n",
       "         'Egyptian Arabic': 4,\n",
       "         'Australian Aboriginal Pidgin English': 1,\n",
       "         'Aramaic': 4,\n",
       "         'Assyrian Neo-Aramaic': 3,\n",
       "         'Inuktitut': 6,\n",
       "         'Dari': 9,\n",
       "         'Kinyarwanda': 5,\n",
       "         'Slovak': 18,\n",
       "         'Flemish': 4,\n",
       "         'Osetin': 1,\n",
       "         'Sotho': 2,\n",
       "         'Farsi, Western': 10,\n",
       "         'Friulian': 1,\n",
       "         'Azerbaijani': 10,\n",
       "         'Hungary': 1,\n",
       "         'Burmese': 8,\n",
       "         'Chinese, Hakka': 4,\n",
       "         'Assyrian': 1,\n",
       "         'Hariyani': 2,\n",
       "         'Napoletano-Calabrese': 2,\n",
       "         'Guanzhong Hua': 1,\n",
       "         'Somali': 4,\n",
       "         'Hawaiian': 2,\n",
       "         'Klingon': 2,\n",
       "         'Afrikaans': 22,\n",
       "         'Akan': 1,\n",
       "         'Armenian': 9,\n",
       "         'Galician': 4,\n",
       "         'Māori': 4,\n",
       "         'Bambara': 5,\n",
       "         'Fulfulde, Adamawa': 1,\n",
       "         'Fula': 1,\n",
       "         'Chewa': 1,\n",
       "         'Khmer, Central': 3,\n",
       "         'Scanian': 2,\n",
       "         'Hindustani': 1,\n",
       "         'Tok Pisin': 1,\n",
       "         'Estonian': 10,\n",
       "         'Egyptian, Ancient': 2,\n",
       "         'Apache, Western': 1,\n",
       "         'Sicilian': 3,\n",
       "         'Wolof': 11,\n",
       "         'Sioux': 4,\n",
       "         'Hainanese': 1,\n",
       "         'Teochew': 2,\n",
       "         'Gumatj': 1,\n",
       "         'Deutsch': 1,\n",
       "         'Thai, Northeastern': 2,\n",
       "         'Scottish Gaelic': 6,\n",
       "         'Dzongkha': 2,\n",
       "         'Hopi': 3,\n",
       "         'Navajo': 3,\n",
       "         'Corsican': 1,\n",
       "         'Algonquin': 1,\n",
       "         'Cree': 1,\n",
       "         'Mohawk': 1,\n",
       "         'Hausa': 1,\n",
       "         'Plautdietsch': 3,\n",
       "         'Jamaican Creole English': 1,\n",
       "         'Shanxi': 1,\n",
       "         'Chinese, Jinyu': 3,\n",
       "         'Kriolu': 1,\n",
       "         'Maasai': 1,\n",
       "         'Lithuanian': 2,\n",
       "         'Classical Arabic': 1,\n",
       "         'Hazaragi': 1,\n",
       "         'Yolngu Matha': 2,\n",
       "         'Hinglish': 2,\n",
       "         'Awadhi': 1,\n",
       "         'Southwestern Mandarin': 1,\n",
       "         'Gaelic': 6,\n",
       "         'Aboriginal Malays': 1,\n",
       "         'Crow': 1,\n",
       "         'Cheyenne': 1,\n",
       "         'Australian English': 1,\n",
       "         'Picard': 1,\n",
       "         'Indian English': 1,\n",
       "         'Cebuano': 3,\n",
       "         'Hiligaynon': 1,\n",
       "         'Maninka': 1,\n",
       "         'Tulu': 1,\n",
       "         'Mende': 1,\n",
       "         'Luxembourgish': 2,\n",
       "         'Old English': 1,\n",
       "         'Judeo-Georgian': 1,\n",
       "         'Sunda': 1,\n",
       "         'Sumerian': 1,\n",
       "         'Haryanvi': 1})"
      ]
     },
     "execution_count": 14,
     "metadata": {},
     "output_type": "execute_result"
    }
   ],
   "source": [
    "language_counter = Counter()\n",
    "df.languages.map(language_counter.update)\n",
    "language_counter"
   ]
  },
  {
   "cell_type": "code",
   "execution_count": 15,
   "id": "1f5f9ee2-7ae9-49cb-a68b-f2b5a145c381",
   "metadata": {},
   "outputs": [],
   "source": [
    "wc = WordCloud(max_words=1000, margin=10,\n",
    "               random_state=1).generate(' '.join(df.languages.map(' '.join).values))"
   ]
  },
  {
   "cell_type": "code",
   "execution_count": 16,
   "id": "63cbe699-0aad-46a9-ac5f-687a01133a1b",
   "metadata": {},
   "outputs": [
    {
     "data": {
      "text/plain": [
       "<matplotlib.image.AxesImage at 0x21e871aa890>"
      ]
     },
     "execution_count": 16,
     "metadata": {},
     "output_type": "execute_result"
    },
    {
     "data": {
      "image/png": "[encoded data removed]",
      "text/plain": [
       "<Figure size 432x288 with 1 Axes>"
      ]
     },
     "metadata": {
      "needs_background": "light"
     },
     "output_type": "display_data"
    }
   ],
   "source": [
    "plt.imshow(wc)"
   ]
  },
  {
   "cell_type": "markdown",
   "id": "f51812fa-55ae-4240-a581-38ec8103e4e4",
   "metadata": {},
   "source": [
    "TBD\n",
    "\n",
    "Seems like the language tags are too specific, and we would benefit from merging all variants of English together, as well as Arabic, Portuguese, Mandarin, etc."
   ]
  },
  {
   "cell_type": "markdown",
   "id": "37af53dc-1d01-4866-9e4e-95cfc2ee9356",
   "metadata": {},
   "source": [
    "## Genres"
   ]
  },
  {
   "cell_type": "markdown",
   "id": "0a98fc9b-51f7-49f1-8b43-a79fc6a49ccd",
   "metadata": {},
   "source": [
    "See that there are many NaNs"
   ]
  },
  {
   "cell_type": "code",
   "execution_count": 17,
   "id": "e0bef375-1b3c-4bdc-b97a-b4fb7671489d",
   "metadata": {},
   "outputs": [
    {
     "data": {
      "text/plain": [
       "24448    NaN\n",
       "17502    NaN\n",
       "24146    NaN\n",
       "13789    NaN\n",
       "3343     NaN\n",
       "        ... \n",
       "15941    NaN\n",
       "1590     NaN\n",
       "12953    NaN\n",
       "17237    NaN\n",
       "17954    NaN\n",
       "Name: genres, Length: 78, dtype: object"
      ]
     },
     "execution_count": 17,
     "metadata": {},
     "output_type": "execute_result"
    }
   ],
   "source": [
    "df.genres[df.genres.isna()]"
   ]
  },
  {
   "cell_type": "code",
   "execution_count": 18,
   "id": "952f4bf1-9810-416d-bf08-73fea20fdaec",
   "metadata": {},
   "outputs": [],
   "source": [
    "df['genres'] = df.genres.map(clean_tags)"
   ]
  },
  {
   "cell_type": "code",
   "execution_count": 19,
   "id": "f7984813-ccde-44c1-a5de-824fa1827a0a",
   "metadata": {
    "scrolled": true,
    "tags": []
   },
   "outputs": [
    {
     "data": {
      "text/plain": [
       "Counter({'Thriller': 4594,\n",
       "         'Mystery': 1487,\n",
       "         'Romance': 4738,\n",
       "         'World cinema': 3629,\n",
       "         'Western': 740,\n",
       "         'Drama': 13547,\n",
       "         'LGBT': 595,\n",
       "         'Erotic Drama': 81,\n",
       "         'Horror': 2867,\n",
       "         'Erotica': 170,\n",
       "         'Cult': 464,\n",
       "         'Erotic thriller': 122,\n",
       "         'Comedy': 8736,\n",
       "         'Short': 2282,\n",
       "         'Animation': 1722,\n",
       "         'Action': 4137,\n",
       "         'Crime Fiction': 3046,\n",
       "         'War': 1087,\n",
       "         'Detective fiction': 161,\n",
       "         'Detective': 203,\n",
       "         'Supernatural': 400,\n",
       "         'Psychological thriller': 797,\n",
       "         'Crime Thriller': 1203,\n",
       "         'Family': 2265,\n",
       "         'Teen': 593,\n",
       "         \"Children's/Family\": 542,\n",
       "         'Documentary': 851,\n",
       "         'Romantic comedy': 1494,\n",
       "         'Indie': 2627,\n",
       "         'Family Drama': 540,\n",
       "         'Comedy-drama': 874,\n",
       "         'Gay': 157,\n",
       "         'Film adaptation': 858,\n",
       "         'Gay Interest': 156,\n",
       "         'Gay Themed': 191,\n",
       "         'Romantic drama': 1840,\n",
       "         'Computer Animation': 135,\n",
       "         \"Children's\": 279,\n",
       "         'Comedy of manners': 159,\n",
       "         'Action/Adventure': 2494,\n",
       "         'Suspense': 458,\n",
       "         'Remake': 57,\n",
       "         'Courtroom Drama': 142,\n",
       "         'Melodrama': 354,\n",
       "         'Fantasy': 1419,\n",
       "         'Creature': 230,\n",
       "         'Black-and-white': 2676,\n",
       "         'Monster': 184,\n",
       "         'Japanese': 919,\n",
       "         'Fantasy Adventure': 143,\n",
       "         'Adventure': 2231,\n",
       "         'Television': 455,\n",
       "         'Science Fiction': 1619,\n",
       "         'History': 256,\n",
       "         'Historical fiction': 211,\n",
       "         'Martial Arts': 471,\n",
       "         'Chinese': 688,\n",
       "         'Parody': 536,\n",
       "         'Pornographic': 109,\n",
       "         'Black comedy': 577,\n",
       "         'Musical': 1759,\n",
       "         'Albino bias': 8,\n",
       "         'Workplace Comedy': 69,\n",
       "         'Pre-Code': 91,\n",
       "         'Biopic [feature]': 260,\n",
       "         'Film noir': 382,\n",
       "         'Social problem': 60,\n",
       "         'Crime Drama': 285,\n",
       "         'Bollywood': 746,\n",
       "         'Crime Comedy': 155,\n",
       "         \"Children's Fantasy\": 169,\n",
       "         'Fairy tale': 35,\n",
       "         'Educational': 14,\n",
       "         'Period piece': 934,\n",
       "         'Buddy': 212,\n",
       "         'Road': 189,\n",
       "         'Americana': 64,\n",
       "         'New Hollywood': 51,\n",
       "         'Ensemble': 248,\n",
       "         'Sex comedy': 169,\n",
       "         'Screwball comedy': 173,\n",
       "         'Coming of age': 540,\n",
       "         'Stoner': 38,\n",
       "         'Biography': 405,\n",
       "         'Political drama': 381,\n",
       "         'Superhero': 252,\n",
       "         'Silent': 872,\n",
       "         'Biker': 14,\n",
       "         'Outlaw biker': 7,\n",
       "         'Gangster': 242,\n",
       "         'Zombie': 163,\n",
       "         'Time travel': 48,\n",
       "         'B-movie': 267,\n",
       "         'Anti-war': 42,\n",
       "         'Satire': 367,\n",
       "         'Family-Oriented Adventure': 150,\n",
       "         'Spy': 237,\n",
       "         'Art': 238,\n",
       "         'Horse racing': 6,\n",
       "         'Animal Picture': 104,\n",
       "         'Sports': 467,\n",
       "         'Biographical': 430,\n",
       "         'Costume drama': 251,\n",
       "         'Comedy Thriller': 54,\n",
       "         'Blaxploitation': 50,\n",
       "         'Master Criminal': 20,\n",
       "         'Exploitation': 10,\n",
       "         'Women in prison': 6,\n",
       "         'Gothic': 42,\n",
       "         'Musical Drama': 91,\n",
       "         'Whodunit': 30,\n",
       "         'Music': 262,\n",
       "         'Action Thrillers': 295,\n",
       "         'Political cinema': 119,\n",
       "         'Dystopia': 54,\n",
       "         'Costume Adventure': 55,\n",
       "         'Docudrama': 179,\n",
       "         'Christmas': 60,\n",
       "         'Fantasy Comedy': 143,\n",
       "         'Historical drama': 80,\n",
       "         'Tollywood': 27,\n",
       "         'Gay pornography': 14,\n",
       "         'Dance': 51,\n",
       "         'Slasher': 498,\n",
       "         'Political satire': 52,\n",
       "         'Surrealism': 78,\n",
       "         'Culture & Society': 142,\n",
       "         'Concert': 7,\n",
       "         'Boxing': 34,\n",
       "         'Samurai cinema': 16,\n",
       "         'Hybrid Western': 19,\n",
       "         'Comedy of Errors': 121,\n",
       "         'Action Comedy': 93,\n",
       "         'Anime': 201,\n",
       "         'Backstage Musical': 14,\n",
       "         'Combat': 67,\n",
       "         'Slapstick': 358,\n",
       "         'Comedy horror': 15,\n",
       "         'Natural horror': 109,\n",
       "         'Heist': 103,\n",
       "         'Prison': 72,\n",
       "         'Beach': 14,\n",
       "         'Spaghetti Western': 39,\n",
       "         'Experimental': 81,\n",
       "         'Existentialism': 23,\n",
       "         'Avant-garde': 64,\n",
       "         'Acid western': 5,\n",
       "         'Filipino': 162,\n",
       "         'Absurdism': 51,\n",
       "         'Musical comedy': 121,\n",
       "         'Mockumentary': 64,\n",
       "         'Horror Comedy': 144,\n",
       "         'Historical Epic': 38,\n",
       "         'Sexploitation': 53,\n",
       "         'Animated Musical': 33,\n",
       "         'Stop motion': 97,\n",
       "         'Sci-Fi Horror': 88,\n",
       "         'Jungle': 45,\n",
       "         'Chase': 77,\n",
       "         'Tamil cinema': 43,\n",
       "         'Sci-Fi Adventure': 25,\n",
       "         'Escape': 31,\n",
       "         'Gross-out': 44,\n",
       "         'Gross out': 44,\n",
       "         'Interpersonal Relationships': 16,\n",
       "         'Social issues': 68,\n",
       "         'Animated cartoon': 66,\n",
       "         'Marriage Drama': 93,\n",
       "         'Domestic Comedy': 125,\n",
       "         'Foreign legion': 7,\n",
       "         'Film': 12,\n",
       "         'Tragicomedy': 40,\n",
       "         'Doomsday': 68,\n",
       "         'Splatter': 21,\n",
       "         'Adventure Comedy': 80,\n",
       "         'Hip hop': 21,\n",
       "         'Disaster': 162,\n",
       "         'British Empire': 17,\n",
       "         'Epic': 123,\n",
       "         'Airplanes and airports': 40,\n",
       "         'Christian': 75,\n",
       "         'Caper story': 56,\n",
       "         'Costume Horror': 36,\n",
       "         'Alien': 61,\n",
       "         'Political thriller': 135,\n",
       "         'Future noir': 18,\n",
       "         'Roadshow/Carny': 2,\n",
       "         'Haunted House': 43,\n",
       "         'Media Satire': 52,\n",
       "         'Holiday': 72,\n",
       "         'Slice of life story': 71,\n",
       "         'Medical fiction': 43,\n",
       "         'Juvenile Delinquency': 30,\n",
       "         'Propaganda': 54,\n",
       "         'Childhood Drama': 76,\n",
       "         'Camp': 2,\n",
       "         'Illnesses & Disabilities': 10,\n",
       "         'Glamorized Spy': 27,\n",
       "         'Auto racing': 38,\n",
       "         'Tragedy': 58,\n",
       "         'Instrumental Music': 3,\n",
       "         'Race': 3,\n",
       "         'Wuxia': 62,\n",
       "         'Roadshow theatrical release': 23,\n",
       "         'Czechoslovak New Wave': 5,\n",
       "         'B-Western': 16,\n",
       "         'Religious': 43,\n",
       "         'Gender Issues': 15,\n",
       "         'Apocalyptic and post-apocalyptic fiction': 21,\n",
       "         'Comedy Western': 40,\n",
       "         'Natural disaster': 8,\n",
       "         'Adult': 80,\n",
       "         'Heaven-Can-Wait Fantasies': 19,\n",
       "         'Fan': 12,\n",
       "         'Health & Fitness': 2,\n",
       "         'Film à clef': 20,\n",
       "         'Archives and records': 3,\n",
       "         'Mythological Fantasy': 21,\n",
       "         'Bengali Cinema': 9,\n",
       "         'Travel': 9,\n",
       "         'Anthology': 6,\n",
       "         'Rockumentary': 27,\n",
       "         'Heavenly Comedy': 21,\n",
       "         'Swashbuckler': 68,\n",
       "         'Movies About Gladiators': 5,\n",
       "         'Hagiography': 11,\n",
       "         'Filmed Play': 1,\n",
       "         'Dogme 95': 11,\n",
       "         'Political Documetary': 1,\n",
       "         'Mondo': 4,\n",
       "         'Pinku eiga': 17,\n",
       "         'Space western': 7,\n",
       "         'Kafkaesque': 5,\n",
       "         'Werewolf fiction': 4,\n",
       "         'Softcore Porn': 27,\n",
       "         'Movie serial': 8,\n",
       "         'Vampire': 2,\n",
       "         'Neo-noir': 45,\n",
       "         'Psychological horror': 3,\n",
       "         'Singing cowboy': 2,\n",
       "         'Revisionist Western': 36,\n",
       "         'Buddy cop': 9,\n",
       "         'Sword and sorcery': 49,\n",
       "         \"Children's Entertainment\": 7,\n",
       "         'Addiction Drama': 36,\n",
       "         'Inspirational Drama': 22,\n",
       "         'Jukebox musical': 7,\n",
       "         'Sci-Fi Thriller': 2,\n",
       "         'Fictional': 6,\n",
       "         'Legal drama': 4,\n",
       "         'Stand-up comedy': 10,\n",
       "         'Road-Horror': 11,\n",
       "         'Romantic fantasy': 39,\n",
       "         'Feminist': 49,\n",
       "         'Psycho-biddy': 6,\n",
       "         'School story': 2,\n",
       "         'Sponsored': 4,\n",
       "         'Patriotic': 1,\n",
       "         'Journalism': 2,\n",
       "         'World History': 9,\n",
       "         'Epic Western': 13,\n",
       "         'Reboot': 8,\n",
       "         'Graphic & Applied Arts': 4,\n",
       "         'Business': 2,\n",
       "         'Coming-of-age': 2,\n",
       "         'Tokusatsu': 1,\n",
       "         'Prison escape': 1,\n",
       "         'Cavalry': 10,\n",
       "         'Parkour in popular culture': 5,\n",
       "         'Computers': 3,\n",
       "         'Law & Crime': 13,\n",
       "         'Extreme Sports': 6,\n",
       "         'Punk rock': 13,\n",
       "         'Giallo': 16,\n",
       "         'Goat gland': 3,\n",
       "         'Libraries and librarians': 5,\n",
       "         'Demonic child': 5,\n",
       "         'Operetta': 3,\n",
       "         'Bruceploitation': 3,\n",
       "         'Humour': 4,\n",
       "         'Point of view shot': 2,\n",
       "         'Revenge': 1,\n",
       "         'Bloopers & Candid Camera': 2,\n",
       "         'Environmental Science': 5,\n",
       "         'Fantasy Drama': 10,\n",
       "         'Cyberpunk': 5,\n",
       "         'Sword and Sandal': 13,\n",
       "         'Courtroom Comedy': 5,\n",
       "         'Crime': 16,\n",
       "         'Indian Western': 13,\n",
       "         'Steampunk': 19,\n",
       "         'British New Wave': 7,\n",
       "         'Pornography': 3,\n",
       "         'Baseball': 6,\n",
       "         'Alien invasion': 2,\n",
       "         'Supermarionation': 1,\n",
       "         'Cold War': 6,\n",
       "         'Kitchen sink realism': 4,\n",
       "         'Nature': 11,\n",
       "         'Animals': 7,\n",
       "         'Film & Television History': 6,\n",
       "         'Media Studies': 4,\n",
       "         'Ealing Comedies': 6,\n",
       "         'Film-Opera': 3,\n",
       "         'Finance & Investing': 3,\n",
       "         'Education': 2,\n",
       "         'Space opera': 5,\n",
       "         'Buddy Picture': 1,\n",
       "         'Archaeology': 10,\n",
       "         'Ninja': 1,\n",
       "         'Inventions & Innovations': 2,\n",
       "         'Early Black Cinema': 5,\n",
       "         'Beach Party': 2,\n",
       "         'News': 1,\n",
       "         'Family & Personal Relationships': 6,\n",
       "         'Gulf War': 2,\n",
       "         'Anthropology': 2,\n",
       "         'Feature': 6,\n",
       "         'Essay': 5,\n",
       "         'The Netherlands in World War II': 2,\n",
       "         'Sci Fi Pictures original': 4,\n",
       "         'Comdedy': 1,\n",
       "         'Mumblecore': 4,\n",
       "         'Historical Documentaries': 2,\n",
       "         'Northern': 5,\n",
       "         'Science fiction Western': 3,\n",
       "         'Therimin music': 3,\n",
       "         'Hardcore pornography': 5,\n",
       "         'Clay animation': 2,\n",
       "         'Language & Literature': 4,\n",
       "         'Star vehicle': 2,\n",
       "         'Malayalam Cinema': 6,\n",
       "         'Live action': 2,\n",
       "         'Neorealism': 1,\n",
       "         'Statutory rape': 1,\n",
       "         'Revisionist Fairy Tale': 1,\n",
       "         'Conspiracy fiction': 1,\n",
       "         'Outlaw': 2,\n",
       "         'Silhouette animation': 1,\n",
       "         'Female buddy': 3,\n",
       "         'Plague': 1,\n",
       "         'Z': 2,\n",
       "         'Breakdance': 1,\n",
       "         'Private military company': 1,\n",
       "         'Romantic thriller': 1,\n",
       "         'Expressionism': 2,\n",
       "         'Latino': 1,\n",
       "         'Linguistics': 1,\n",
       "         'Chick flick': 1})"
      ]
     },
     "execution_count": 19,
     "metadata": {},
     "output_type": "execute_result"
    }
   ],
   "source": [
    "genres_counter = Counter()\n",
    "df.genres.map(genres_counter.update)\n",
    "genres_counter"
   ]
  },
  {
   "cell_type": "code",
   "execution_count": 20,
   "id": "b485c03f-fd3a-41b8-86f1-26f18fa56ad6",
   "metadata": {},
   "outputs": [
    {
     "data": {
      "text/plain": [
       "<matplotlib.image.AxesImage at 0x21e8704dbd0>"
      ]
     },
     "execution_count": 20,
     "metadata": {},
     "output_type": "execute_result"
    },
    {
     "data": {
      "image/png": "[encoded data removed]",
      "text/plain": [
       "<Figure size 432x288 with 1 Axes>"
      ]
     },
     "metadata": {
      "needs_background": "light"
     },
     "output_type": "display_data"
    }
   ],
   "source": [
    "wc = WordCloud(max_words=1000, margin=10,\n",
    "               random_state=1).generate(' '.join(df.genres.map(lambda l: ' '.join(s.replace(' ', '_') for s in l)).values))\n",
    "plt.imshow(wc)"
   ]
  },
  {
   "cell_type": "markdown",
   "id": "fecde57c-e2a9-4d3d-bd36-7c8dd895045c",
   "metadata": {},
   "source": [
    "## Countries"
   ]
  },
  {
   "cell_type": "markdown",
   "id": "1fcbdc6c-f323-46af-a3d3-43b825f10284",
   "metadata": {},
   "source": [
    "See that there are many NaNs"
   ]
  },
  {
   "cell_type": "code",
   "execution_count": 21,
   "id": "52d633db-a0b7-4568-a35d-d937e5a6190b",
   "metadata": {},
   "outputs": [
    {
     "data": {
      "text/plain": [
       "24448    NaN\n",
       "17502    NaN\n",
       "24146    NaN\n",
       "13789    NaN\n",
       "3343     NaN\n",
       "        ... \n",
       "15941    NaN\n",
       "1590     NaN\n",
       "12953    NaN\n",
       "17237    NaN\n",
       "17954    NaN\n",
       "Name: countries, Length: 78, dtype: object"
      ]
     },
     "execution_count": 21,
     "metadata": {},
     "output_type": "execute_result"
    }
   ],
   "source": [
    "df.countries[df.countries.isna()]"
   ]
  },
  {
   "cell_type": "code",
   "execution_count": 22,
   "id": "f55b9f9a-a5b9-486e-9d5e-11bf0f01f0e2",
   "metadata": {},
   "outputs": [],
   "source": [
    "df['countries'] = df.countries.map(clean_tags)"
   ]
  },
  {
   "cell_type": "code",
   "execution_count": 23,
   "id": "ddf57636-23a1-4c52-902d-c9d445fd25dc",
   "metadata": {
    "scrolled": true,
    "tags": []
   },
   "outputs": [
    {
     "data": {
      "text/plain": [
       "Counter({'India': 3371,\n",
       "         'United States of America': 14700,\n",
       "         'France': 1607,\n",
       "         'Canada': 1061,\n",
       "         'Germany': 940,\n",
       "         'United Kingdom': 2881,\n",
       "         'Spain': 468,\n",
       "         'Brazil': 91,\n",
       "         'Bulgaria': 31,\n",
       "         'Australia': 525,\n",
       "         'New Zealand': 177,\n",
       "         'Italy': 875,\n",
       "         'Uzbek SSR': 5,\n",
       "         'South Korea': 531,\n",
       "         'Japan': 1011,\n",
       "         'Netherlands': 165,\n",
       "         'Hong Kong': 562,\n",
       "         'China': 277,\n",
       "         'Finland': 74,\n",
       "         'Soviet Union': 182,\n",
       "         'Russia': 157,\n",
       "         'Mexico': 193,\n",
       "         'Argentina': 174,\n",
       "         'German Democratic Republic': 44,\n",
       "         'Ireland': 127,\n",
       "         'South Africa': 97,\n",
       "         'Sweden': 187,\n",
       "         'Norway': 72,\n",
       "         'Iceland': 24,\n",
       "         'Albania': 5,\n",
       "         'Thailand': 125,\n",
       "         'Bangladesh': 16,\n",
       "         'Czechoslovakia': 36,\n",
       "         'Turkey': 95,\n",
       "         'Bosnia and Herzegovina': 13,\n",
       "         'Iran': 68,\n",
       "         'Poland': 97,\n",
       "         'Czech Republic': 69,\n",
       "         'Republic of China': 1,\n",
       "         'Singapore': 44,\n",
       "         'Indonesia': 53,\n",
       "         'Belgium': 137,\n",
       "         'Philippines': 176,\n",
       "         'Austria': 77,\n",
       "         'Malaysia': 57,\n",
       "         'Switzerland': 78,\n",
       "         'Korea': 16,\n",
       "         'England': 87,\n",
       "         'West Germany': 144,\n",
       "         'Democratic Republic of the Congo': 14,\n",
       "         'Serbia': 27,\n",
       "         'Yugoslavia': 45,\n",
       "         'Algeria': 19,\n",
       "         'Bolivia': 6,\n",
       "         'Denmark': 119,\n",
       "         'Ukraine': 13,\n",
       "         'Luxembourg': 30,\n",
       "         'Sri Lanka': 32,\n",
       "         'Zimbabwe': 2,\n",
       "         'Morocco': 29,\n",
       "         'Egypt': 66,\n",
       "         'Taiwan': 76,\n",
       "         'Israel': 76,\n",
       "         'Iraq': 6,\n",
       "         'Kingdom of Great Britain': 10,\n",
       "         'Colombia': 22,\n",
       "         'Hungary': 70,\n",
       "         'United Arab Emirates': 12,\n",
       "         'Portugal': 33,\n",
       "         'Soviet occupation zone': 2,\n",
       "         'Ethiopia': 4,\n",
       "         'Lithuania': 6,\n",
       "         'Kingdom of Italy': 3,\n",
       "         'Northern Ireland': 3,\n",
       "         'Lebanon': 17,\n",
       "         'Burkina Faso': 23,\n",
       "         'Greece': 70,\n",
       "         'Wales': 3,\n",
       "         'Cuba': 12,\n",
       "         'Weimar Republic': 30,\n",
       "         'Nigeria': 11,\n",
       "         'Uruguay': 10,\n",
       "         'Costa Rica': 3,\n",
       "         'Mandatory Palestine': 1,\n",
       "         'Palestinian territories': 3,\n",
       "         'Tunisia': 19,\n",
       "         'Vietnam': 15,\n",
       "         'Scotland': 19,\n",
       "         'Venezuela': 13,\n",
       "         'Pakistan': 53,\n",
       "         'Cambodia': 27,\n",
       "         'Serbia and Montenegro': 4,\n",
       "         'Federal Republic of Yugoslavia': 2,\n",
       "         'Republic of Macedonia': 7,\n",
       "         'Nazi Germany': 6,\n",
       "         'Senegal': 17,\n",
       "         'Uzbekistan': 4,\n",
       "         'Nepal': 9,\n",
       "         'Mali': 10,\n",
       "         'Congo': 2,\n",
       "         'Puerto Rico': 11,\n",
       "         'Socialist Federal Republic of Yugoslavia': 8,\n",
       "         'Chile': 11,\n",
       "         'Azerbaijan': 6,\n",
       "         'Georgia': 6,\n",
       "         'Bahamas': 3,\n",
       "         'Romania': 41,\n",
       "         'Malayalam': 1,\n",
       "         'Kenya': 7,\n",
       "         'Croatia': 25,\n",
       "         'Jordan': 2,\n",
       "         'Georgian SSR': 4,\n",
       "         'Burma': 6,\n",
       "         'Panama': 2,\n",
       "         'Peru': 10,\n",
       "         'Guinea': 2,\n",
       "         'Armenia': 5,\n",
       "         'Ukrainian SSR': 2,\n",
       "         'Slovakia': 11,\n",
       "         'Cameroon': 9,\n",
       "         'Jamaica': 3,\n",
       "         'Afghanistan': 6,\n",
       "         'Estonia': 7,\n",
       "         'Kuwait': 3,\n",
       "         'Libya': 1,\n",
       "         'Slovenia': 7,\n",
       "         'Slovak Republic': 3,\n",
       "         'Aruba': 2,\n",
       "         'Bhutan': 2,\n",
       "         'Qatar': 2,\n",
       "         'Guinea-Bissau': 1,\n",
       "         'Cyprus': 1,\n",
       "         'Mongolia': 1,\n",
       "         'Macau': 1,\n",
       "         'Turkmenistan': 1,\n",
       "         'Crime': 1,\n",
       "         'Haiti': 1,\n",
       "         'Isle of Man': 1,\n",
       "         'Zambia': 2,\n",
       "         'Monaco': 3,\n",
       "         'German': 1,\n",
       "         'Malta': 1,\n",
       "         'Bahrain': 1})"
      ]
     },
     "execution_count": 23,
     "metadata": {},
     "output_type": "execute_result"
    }
   ],
   "source": [
    "countries_counter = Counter()\n",
    "df.countries.map(countries_counter.update)\n",
    "countries_counter"
   ]
  },
  {
   "cell_type": "code",
   "execution_count": 24,
   "id": "dbe4c62a-4f0d-4588-bc98-4773ea9e4c77",
   "metadata": {},
   "outputs": [
    {
     "data": {
      "text/plain": [
       "<matplotlib.image.AxesImage at 0x21e87d1eef0>"
      ]
     },
     "execution_count": 24,
     "metadata": {},
     "output_type": "execute_result"
    },
    {
     "data": {
      "image/png": "[encoded data removed]",
      "text/plain": [
       "<Figure size 432x288 with 1 Axes>"
      ]
     },
     "metadata": {
      "needs_background": "light"
     },
     "output_type": "display_data"
    }
   ],
   "source": [
    "wc = WordCloud(max_words=1000, margin=10,\n",
    "               random_state=1).generate(' '.join(df.countries.map(lambda l: ' '.join(s.replace(' ', '_') for s in l)).values))\n",
    "\n",
    "plt.imshow(wc)"
   ]
  },
  {
   "cell_type": "markdown",
   "id": "27fc7349-e233-4a42-bafb-d63f98aee14d",
   "metadata": {},
   "source": [
    "## Plot"
   ]
  },
  {
   "cell_type": "markdown",
   "id": "afcb78e7-09b6-474c-9a7c-f55de56c62a9",
   "metadata": {},
   "source": [
    "assure there are no nulls"
   ]
  },
  {
   "cell_type": "code",
   "execution_count": 25,
   "id": "3a7aa78a-6c8d-4d6e-ad4f-7409bab352f6",
   "metadata": {},
   "outputs": [
    {
     "data": {
      "text/plain": [
       "0"
      ]
     },
     "execution_count": 25,
     "metadata": {},
     "output_type": "execute_result"
    }
   ],
   "source": [
    "df.plot_summary.isna().sum()"
   ]
  },
  {
   "cell_type": "markdown",
   "id": "c4a61904-3783-4e32-866a-8989aad794f9",
   "metadata": {},
   "source": [
    "A brief skimming leads me to believe that all or nearly all plots are written in English. If not, we can use a third party language detector to treat the non English texts."
   ]
  },
  {
   "cell_type": "code",
   "execution_count": 26,
   "id": "b3b0730f-1efa-4150-8b78-0a684fa799b2",
   "metadata": {
    "scrolled": true,
    "tags": []
   },
   "outputs": [
    {
     "data": {
      "text/plain": [
       "array(['Chicago socialite Cynthia Drexel arranges for New York City opera star Anthony Allen to sing at a private party for a $15,000 fee but, tired of his arduous performance schedule and the silly promotional stunts devised by his agent Petroff, he flees to his hometown in New Mexico, then his secluded cabin in the Sierra Madres. Determined to make him fulfill his commitment, Cynthia pursues him in her private plane, but he refuses to return with her, despite the efforts of her Uncle Bob and his valet Botts to convince him otherwise. When Cynthia leaves without her suitcase, a now intrigued Anthony returns to Chicago with her belongings. When he arrives at her home, an angry Cynthia criticizes his singing and tells him she has no romantic interest in him as she is engaged Count Raul Du Rienne. Cynthia sues him for breach of contract, but in court Anthony argues he refused to sing for her because she does not appreciate his talent, and the case is dismissed. Outside the courtroom, Uncle Bob tells him her betrothal to Raul is a mistake and all she needs is a good spanking to make her come to her senses. Anthony conceals himself in a doorway, and when Cynthia walks by, he pulls her inside and proceeds to spank her. Petroff calls a press conference at which he announces their union, and the happy couple signs their marriage license.\\n',\n",
       "       \"Raja  feels stifled under his strict father Col.Chandrasekhar  and when his father picks a girl he doesn't like for him to marry, it is the last straw and he runs away to Ooty. There he teams up with Vasu  and they come up with an ill-advised plan to kidnap Indu , the daughter of Vishwanathan . Vishwanathan is in fact Col. Chandrasekhar's friend and it is Indu that Raja was supposed to marry. But Vishwanathan now mistakes Vasu to be his friend's son and takes him under his wing while Raja is hired to be his driver. While the movie is not a continuous comic ride, it succeeds in raising laughs at regular intervals. While the handling may be lightweight, there is nothing light about the story. There are several twists and turns that perk it up at key moments and make sure that the comic momentum never flags. While the story of mistaken identities is itself quite common, Sundar periodically introduces subplots like the plans of the two managers to murder their boss and new characters like the second Manivannan. These are twists that help in propelling the story forward without any slowdown. The movie has a rich stock of one-liners to throw at us and quite a few of them find their mark. But unlike movies that rely purely on one-liners and lose steam after a while, Ullathai Alli Thaa also boasts of many sequences that are quite hilarious. The scene where almost the whole cast ends up in Jyothimeena's house  is one such sequence. The scene, which has them scrambling around to find hiding places, is expertly choreographed and presented. The scene where Karthik and Koundamani negotiate with the fake kidnappers over the phone is another successful scene. Koundamani's reactions as the ransom inexplicably goes lower are hilarious. There are some smaller sequences too that manage to tickle our{{Who}} funny bone and Sundar makes sure that none of these extend out too long to exhaust the laughs. The parts where Karthik and Koundamani have to dupe both Jaiganesh and Manivannan at the same time are clever and funny. Senthil and his partner do their part with their hare-brained schemes to dispose of Manivannan. The comic vein extends till the climax with Karthik and Koundamani spouting several funny lines in the villain's den. Most of the scenes of this movie's screenplay are copied from old Tamil movie Sabaash Meena, starring Sivaji Ganesan, Chandrababu, Saroja Devi.\\n\",\n",
       "       'In mid-1800s England, Oscar Hopkins  is a young Anglican priest, a misfit and an outcast, but with the soul of an angel. As a boy, even though from a strict Plymouth Brethren family, he felt God told him through a sign to leave his father and his faith and join the Church of England. Lucinda Leplastrier  is a teenage Australian heiress who has an almost desperate desire to liberate her sex from the confines of the male-dominated culture of Australia at that time. She buys a glass factory and has a dream of building a church made almost entirely of glass, and then transporting it to the Australian Outback. Oscar and Lucinda meet on a ship going to Australia; once there, they are for different reasons ostracized from society, and as a result \"join forces\" together. Oscar and Lucinda are both passionate gamblers, and Lucinda bets Oscar her entire inheritance that he cannot transport the glass church to the Outback safely. Oscar accepts her wager, and this leads to the events that will change both their lives forever.\\n',\n",
       "       'Sam Dawson , a man with a developmental disability, is the single father of Lucy , following their abandonment by her mother. Despite his limitations, Sam is well-adjusted and has a supportive group of friends with developmental disabilities, as well as a kind, agoraphobic neighbor Annie  who takes care of Lucy when Sam cannot. Though Sam provides a loving and caring environment for precocious Lucy, she soon surpasses his mental ability. Other children tease her for having a \"retard\" as a father, and she becomes too embarrassed to accept that she is more intellectually advanced than Sam. In preparation for a custody case, a social worker turns up at Lucy\\'s birthday party and takes her away, allowing Sam two supervised visits per week. On the advice of his friends, Sam approaches a high-powered lawyer, Rita Harrison , whose brusque manner, fast-paced schedule and difficult personal life have earned her a reputation as cold and unfeeling. In an attempt to prove to others that she is not heartless, Rita surprisingly agrees to take on Sam\\'s case pro bono. As they work together to secure Sam\\'s parental rights, Sam unwittingly helps Rita with her family problems, including encouraging her to leave her philandering husband and repairing her factious relationship with her son. At the trial, Sam breaks down after opposing counsel convinces him that he is not capable of being a father. After the trial, Lucy resides in a foster home with Randy Carpenter , but tries to convince Sam to help her run away, and continually escapes in the middle of the night to go to Sam\\'s apartment, whereupon he immediately returns her. Ultimately, the foster family who planned to adopt Lucy decide to return her to Sam, with an arrangement that Randy will help him raise her. The final scene depicts a soccer game, refereed by Sam, in which Lucy participates as a player. In attendance are the foster family, Sam\\'s friendship group, and a newly-single Rita with her son.\\n',\n",
       "       'Az’Az, a smart, cheerful and talented boy, who loves life and freedom. He dreams of having a family. However, in the gloom and the cold of the streets, all he finds is darkness.\\n',\n",
       "       \"Lou Henry  is the owner of Kiddyland, an amusement park, and Bud Flick  is his friend and partner. Together they share a home with two orphan children, Duffer  and Shelly . Welfare worker Miss Mayberry  does not think that their home is a suitable environment for the children and attempts to remove them. One of the reasons is that Bud is a gambler and owes $10,000 to Big Frank  who offers to forget the debt if Bud agrees to help launder $200,000 that Big Frank took from a Chicago bank. Bud agrees to meet Big Frank's man, Mushie ([[Richard Reeves , at Kiddyland to pick up the money and a plane ticket. Lou, however, informs District Attorney Proctor  of the plan and he shows up at Kiddyland during Bud and Mushie's meeting. Mushie sees the DA and hides the money just before he murders Proctor and frames Lou for it. Miss Mayberry uses Lou's arrest to take the children from his home. Bud informs Mushie that he knows that he really killed Proctor, and Mushie threatens to kill him. However Big Frank and Dutch  kill Mushie. They kidnap Bud and demand that he tell them where the money is hidden. Meanwhile Lou is released by the police, with the intent that he will lead them to Bud. Dutch then kidnaps Lou and takes him to their hideout, where Bud is also being held. Bud lies and tells Big Frank that he knows where the money is and they all head to Kiddyland, with the police following them every step of the way. Bud then tricks Big Frank into confessing to everything while they are inside the park's recording booth, then Lou grabs the recording and escapes into the park. Shelly and Duffer have also escaped from Miss Mayberry and are now inside the park playing when they see Lou being chased. They return to the orphanage to get help from the other children, and they all head back to Kiddyland. The children then wreak havoc in the park, foiling the gangsters at every turn. The police capture them, and the reward money that Bud and Lou receive is donated to the orphanage. Miss Mayberry, seeing what a good role model Lou really is, returns custody of the orphans to him.<ref name | titleJim Mulholland | publisher216–219 | year}}\\n\",\n",
       "       'Daffy Duck is a traveling salesman for the Ace Novelty Company of Walla Walla, Washington, when he witnesses Foghorn Leghorn and The Barnyard Dog in one of their familiar alternating scraps. Foghorn is seen awakening the dog by lifting him up by the tail and repeatedly slapping his rear end with a board which causes the dog to chase him. The dog is in pursuit but reaches a painted white line with a sign that reads \"Rope Limit\" which causes the dog to be jerked to a stop by the rope around his neck. Foghorn then takes a rubber ball and stuffs it in the dog\\'s mouth, then punctures the ball with a needle causing the dog to fly away. As Foghorn leaves he walks past a wooden tower with a sign the reads \"Don\\'t Look Up\". Foghorn naturally looks and sees the dog perched on the tower holding a watermelon which the dog releases, causing it to break over Foghorn\\'s head. The dog\\'s prank prompts Foghorn to contemplate \"massive retaliation\" against his nemesis. Daffy enters with his traveling salesman suitcase of novelty joke items and offers to help Foghorn get back at the dog by selling him a trick bone that is spring-loaded. The prank works and Daffy then intervenes to help the dog retaliate against Foghorn with a gift-wrapped corn-on-the-cob that is connected to an electrical wire. Naturally, Foghorn wants to get back at the dog with an even bigger prank and Daffy sells him something called the Chattanooga Choo-Choo which ends up backfiring on Foghorn. To make up for the Chattanooga Choo-Choo, Daffy offers to sell Foghorn an elaborate prank called the Pipe Full Of Fun Kit Number 7, which Foghorn purchases. As Foghorn is setting up the trap, he sees the dog setting up the same trap to use against him, and they both realize that Daffy has been playing them against each other . Foghorn and the dog join forces to go after Daffy, who attempts to flee but is instead victimized by the Pipe Full O\\' Fun Kit, and Foghorn says \"You know, there might I say there just might be a market for bottled duck.\".\\n',\n",
       "       \"Kasam Paida Karne Wale Ki is the story of Satish Kumar. After the passing of his father, Satish is the only heir to a vast estate. As he is five years old, he can only inherit it fully when he becomes 20. The estate is placed under the care of his paternal uncle, Udaybhan, who carefully drugs and intimidates Satish to such an extent that Satish is terrified of his uncle's shadow. Years go by. Satish has achieved adulthood, is married to Aarti, and continues to live in fear of his uncle. After one night of bliss, Satish finds out that Aarti had married him to rob him of cash and jewelry. He is devastated. Uday asks Aarti to leave, and Satish follows her. Aarti asks him for forgiveness, and he does so. However, Udaybhan knifes him to death and has it written off by the police as suicide. Aarti swears to avenge this through her child in her womb. Years later, Aarti and her son, Avinash, surface to avenge Satish's death &mdash; they find out that it is not easy to hoodwink a wily Udaybhan, and they could well be endangering their very own lives.\\n\",\n",
       "       'A woman is thrown out of her home by her jealous husband and sinks into depravity. Twenty years later, she finds herself accused of murder for saving her son, who does not know who she is. He finds himself defending her without knowing her background.\\n',\n",
       "       \"Kong is a deaf-mute gunman, an assassin for hire who can neither hear his gunshots nor the people pleading with him not to kill them. He receives his contracts through Aom, a hostess at a Bangkok go-go bar. Kong lost his hearing when he was a child. Because of his disability, he was taunted by other children and grows up into an angry young man. At a target range, he finds he has a knack for target shooting when he visualizes the faces of the boys that taunted him in the target. His deafness gives him an edge in shooting, as he doesn't react to the gunshots and can better focus on his target. He eventually gets a job as a janitor at the range. One day while cleaning up, a customer named Joe is in the Bangkok forest with his girlfriend, Aom. Jo notices Kong watching them. He then offers the pistol to Kong, who impresses Jo and Aom with his pinpoint shooting. Joe then takes Kong under his wing and teaches him how to shoot. When Jo injures his gun hand in a battle, Kong is ready to take on more work. Working for a mob boss, Kong is sent on a job to Hong Kong. He shoots his target while riding on the Hong Kong subway. When Kong returns to Bangkok, he catches a cold and needs medicine, so he stops at a pharmacy and meets Fon, a pretty pharmacist. With Fon, friendship grows into something deeper. This changes Kong's perspective on life as he realizes that life can be meaningful, even for a deaf-mute assassin like him. Aom has trouble with one of the mob boss' henchmen. She spurns him but he rapes her. Enraged, Joe takes matters into his own hands, killing the henchman, which brings the mob's wrath down on Joe, which in turn leads to more revenge killing by Kong, and a final big shoot-out in a water bottling plant.\\n\"],\n",
       "      dtype=object)"
      ]
     },
     "execution_count": 26,
     "metadata": {},
     "output_type": "execute_result"
    }
   ],
   "source": [
    "df.plot_summary.sample(10, random_state=7).values"
   ]
  },
  {
   "cell_type": "markdown",
   "id": "5d43e529-2305-4ff9-b219-e0b759cd3882",
   "metadata": {
    "tags": []
   },
   "source": [
    "## title"
   ]
  },
  {
   "cell_type": "markdown",
   "id": "da62f79c-76c1-4b71-9060-d81e17082e0a",
   "metadata": {},
   "source": [
    "See there are a few nulls to replace"
   ]
  },
  {
   "cell_type": "code",
   "execution_count": 27,
   "id": "d0bc6ed1-8852-488c-9c9c-0bee514ba54d",
   "metadata": {},
   "outputs": [
    {
     "data": {
      "text/plain": [
       "78"
      ]
     },
     "execution_count": 27,
     "metadata": {},
     "output_type": "execute_result"
    }
   ],
   "source": [
    "df.title.isna().sum()"
   ]
  },
  {
   "cell_type": "code",
   "execution_count": 28,
   "id": "2a0e78fb-b9f3-4c4d-85a8-a593d9ac9c23",
   "metadata": {},
   "outputs": [],
   "source": [
    "df.title.fillna('', inplace=True)"
   ]
  },
  {
   "cell_type": "code",
   "execution_count": 29,
   "id": "1d12025b-bc8a-42c6-b2bf-aaa91e96ab07",
   "metadata": {},
   "outputs": [
    {
     "data": {
      "text/plain": [
       "0"
      ]
     },
     "execution_count": 29,
     "metadata": {},
     "output_type": "execute_result"
    }
   ],
   "source": [
    "df.title.isna().sum()"
   ]
  },
  {
   "cell_type": "markdown",
   "id": "f10b0ad9-e35e-4938-a998-49ff9be154e8",
   "metadata": {},
   "source": [
    "See there are duplicate titles, which could mess things up when we later query by title"
   ]
  },
  {
   "cell_type": "code",
   "execution_count": 30,
   "id": "a4e158cb-1e55-4687-b1cd-12887da63b73",
   "metadata": {},
   "outputs": [
    {
     "data": {
      "text/plain": [
       "                       78\n",
       "I Love You              7\n",
       "Alice in Wonderland     6\n",
       "The Hole                6\n",
       "Wanted                  6\n",
       "                       ..\n",
       "Joshua                  2\n",
       "American Gothic         2\n",
       "Silk                    2\n",
       "Staying Alive           2\n",
       "Thursday's Child        2\n",
       "Name: title, Length: 1028, dtype: int64"
      ]
     },
     "execution_count": 30,
     "metadata": {},
     "output_type": "execute_result"
    }
   ],
   "source": [
    "vc = df.title.value_counts() \n",
    "vc[vc>1]"
   ]
  },
  {
   "cell_type": "markdown",
   "id": "6928bd2c-f2d9-4c0c-8a40-9381c8e648a2",
   "metadata": {},
   "source": [
    "See for example the different movies called \"Wanted\""
   ]
  },
  {
   "cell_type": "code",
   "execution_count": 31,
   "id": "bf972057-0e94-4486-8fef-0a220420a0c2",
   "metadata": {},
   "outputs": [
    {
     "data": {
      "text/html": [
       "<div>\n",
       "<style scoped>\n",
       "    .dataframe tbody tr th:only-of-type {\n",
       "        vertical-align: middle;\n",
       "    }\n",
       "\n",
       "    .dataframe tbody tr th {\n",
       "        vertical-align: top;\n",
       "    }\n",
       "\n",
       "    .dataframe thead th {\n",
       "        text-align: right;\n",
       "    }\n",
       "</style>\n",
       "<table border=\"1\" class=\"dataframe\">\n",
       "  <thead>\n",
       "    <tr style=\"text-align: right;\">\n",
       "      <th></th>\n",
       "      <th>languages</th>\n",
       "      <th>genres</th>\n",
       "      <th>title</th>\n",
       "      <th>release_date</th>\n",
       "      <th>countries</th>\n",
       "      <th>movie_box_office_revenue</th>\n",
       "      <th>plot_summary</th>\n",
       "      <th>feature_length</th>\n",
       "    </tr>\n",
       "  </thead>\n",
       "  <tbody>\n",
       "    <tr>\n",
       "      <th>18829</th>\n",
       "      <td>[Bengali]</td>\n",
       "      <td>[Action]</td>\n",
       "      <td>Wanted</td>\n",
       "      <td>2010-04-30</td>\n",
       "      <td>[India]</td>\n",
       "      <td></td>\n",
       "      <td>Rajkumar Banerjee /Raja ([[Jeet  is a professi...</td>\n",
       "      <td>164.0</td>\n",
       "    </tr>\n",
       "    <tr>\n",
       "      <th>8395</th>\n",
       "      <td>[English]</td>\n",
       "      <td>[Crime Fiction, Action Thrillers, Fantasy Adve...</td>\n",
       "      <td>Wanted</td>\n",
       "      <td>2008-06-12</td>\n",
       "      <td>[United States of America, Germany]</td>\n",
       "      <td>341433252</td>\n",
       "      <td>In Chicago, Wesley Gibson is an American born...</td>\n",
       "      <td>110.0</td>\n",
       "    </tr>\n",
       "    <tr>\n",
       "      <th>709</th>\n",
       "      <td>[Hindi]</td>\n",
       "      <td>[Thriller, Action/Adventure, World cinema, Act...</td>\n",
       "      <td>Wanted</td>\n",
       "      <td>2009-09-18</td>\n",
       "      <td>[India]</td>\n",
       "      <td></td>\n",
       "      <td>The story is about Radhe , a hardcore gangster...</td>\n",
       "      <td>153.0</td>\n",
       "    </tr>\n",
       "    <tr>\n",
       "      <th>1124</th>\n",
       "      <td>[]</td>\n",
       "      <td>[Crime Fiction, Thriller, Drama]</td>\n",
       "      <td>Wanted</td>\n",
       "      <td>2005</td>\n",
       "      <td>[]</td>\n",
       "      <td></td>\n",
       "      <td>The show follows an elite taskforce, with memb...</td>\n",
       "      <td></td>\n",
       "    </tr>\n",
       "    <tr>\n",
       "      <th>5472</th>\n",
       "      <td>[Italian]</td>\n",
       "      <td>[Romance, Action, Drama, Western]</td>\n",
       "      <td>Wanted</td>\n",
       "      <td>1967-03-22</td>\n",
       "      <td>[Italy]</td>\n",
       "      <td></td>\n",
       "      <td>A local sheriff  is unjustly accused of murder...</td>\n",
       "      <td>107.0</td>\n",
       "    </tr>\n",
       "    <tr>\n",
       "      <th>12365</th>\n",
       "      <td>[]</td>\n",
       "      <td>[Crime Fiction, Thriller, Action, Bollywood]</td>\n",
       "      <td>Wanted</td>\n",
       "      <td></td>\n",
       "      <td>[India]</td>\n",
       "      <td></td>\n",
       "      <td>Five college friends badly in need of money ki...</td>\n",
       "      <td></td>\n",
       "    </tr>\n",
       "  </tbody>\n",
       "</table>\n",
       "</div>"
      ],
      "text/plain": [
       "       languages                                             genres   title  \\\n",
       "18829  [Bengali]                                           [Action]  Wanted   \n",
       "8395   [English]  [Crime Fiction, Action Thrillers, Fantasy Adve...  Wanted   \n",
       "709      [Hindi]  [Thriller, Action/Adventure, World cinema, Act...  Wanted   \n",
       "1124          []                   [Crime Fiction, Thriller, Drama]  Wanted   \n",
       "5472   [Italian]                  [Romance, Action, Drama, Western]  Wanted   \n",
       "12365         []       [Crime Fiction, Thriller, Action, Bollywood]  Wanted   \n",
       "\n",
       "      release_date                            countries  \\\n",
       "18829   2010-04-30                              [India]   \n",
       "8395    2008-06-12  [United States of America, Germany]   \n",
       "709     2009-09-18                              [India]   \n",
       "1124          2005                                   []   \n",
       "5472    1967-03-22                              [Italy]   \n",
       "12365                                           [India]   \n",
       "\n",
       "      movie_box_office_revenue  \\\n",
       "18829                            \n",
       "8395                 341433252   \n",
       "709                              \n",
       "1124                             \n",
       "5472                             \n",
       "12365                            \n",
       "\n",
       "                                            plot_summary feature_length  \n",
       "18829  Rajkumar Banerjee /Raja ([[Jeet  is a professi...          164.0  \n",
       "8395    In Chicago, Wesley Gibson is an American born...          110.0  \n",
       "709    The story is about Radhe , a hardcore gangster...          153.0  \n",
       "1124   The show follows an elite taskforce, with memb...                 \n",
       "5472   A local sheriff  is unjustly accused of murder...          107.0  \n",
       "12365  Five college friends badly in need of money ki...                 "
      ]
     },
     "execution_count": 31,
     "metadata": {},
     "output_type": "execute_result"
    }
   ],
   "source": [
    "df[df.title == 'Wanted']"
   ]
  },
  {
   "cell_type": "markdown",
   "id": "aa017050-4a24-471e-98d1-f4ffe3a7dc67",
   "metadata": {},
   "source": [
    "So, if a user queries for an ambiguous title (\"Wanted\"), we treat it as if she queries for each individual \"Wanted\" film separately, and return all 6 sets of recommendations.\n",
    "\n",
    "We do this translation by maintaining a map from each title to all of its entries"
   ]
  },
  {
   "cell_type": "code",
   "execution_count": 32,
   "id": "ca7c32f7-3fc9-473e-bb79-c795b784e2d1",
   "metadata": {},
   "outputs": [],
   "source": [
    "title2indices = defaultdict(lambda: [])\n",
    "df.apply(lambda row: title2indices[row.title].append(row.name), axis=1)\n",
    "title2indices = dict(title2indices) # make it a regular dict, that can be pickled"
   ]
  },
  {
   "cell_type": "code",
   "execution_count": 33,
   "id": "b729ef0f-2404-4a8c-8305-99e04e0c60ce",
   "metadata": {},
   "outputs": [
    {
     "data": {
      "text/plain": [
       "[18829, 8395, 709, 1124, 5472, 12365]"
      ]
     },
     "execution_count": 33,
     "metadata": {},
     "output_type": "execute_result"
    }
   ],
   "source": [
    "title2indices['Wanted']"
   ]
  },
  {
   "cell_type": "markdown",
   "id": "5306d1dd-216d-4e61-bf04-eb4300895dd7",
   "metadata": {},
   "source": [
    "## release_date"
   ]
  },
  {
   "cell_type": "markdown",
   "id": "0d51f927-6404-4dda-8a94-5318178992d9",
   "metadata": {},
   "source": [
    "### Observe:"
   ]
  },
  {
   "cell_type": "code",
   "execution_count": 34,
   "id": "46ccf7b5-dde6-432b-bb06-5be6e4aa7b05",
   "metadata": {},
   "outputs": [
    {
     "data": {
      "text/plain": [
       "1252           1967\n",
       "10444    2004-06-09\n",
       "8994        1958-11\n",
       "7463     1975-08-26\n",
       "1910     1976-03-18\n",
       "            ...    \n",
       "5699     2011-07-29\n",
       "10742    2009-07-24\n",
       "16921          1944\n",
       "25796    2009-04-10\n",
       "28847    1935-02-23\n",
       "Name: release_date, Length: 30000, dtype: object"
      ]
     },
     "execution_count": 34,
     "metadata": {},
     "output_type": "execute_result"
    }
   ],
   "source": [
    "df.release_date"
   ]
  },
  {
   "cell_type": "markdown",
   "id": "35d50422-6783-4051-a12b-90e1788cae4d",
   "metadata": {},
   "source": [
    "### Fill NAs"
   ]
  },
  {
   "cell_type": "code",
   "execution_count": 35,
   "id": "d18c0d53-8726-4de5-9b19-d2bab6dd3940",
   "metadata": {},
   "outputs": [
    {
     "data": {
      "text/plain": [
       "78"
      ]
     },
     "execution_count": 35,
     "metadata": {},
     "output_type": "execute_result"
    }
   ],
   "source": [
    "df.release_date.isna().sum()"
   ]
  },
  {
   "cell_type": "code",
   "execution_count": 36,
   "id": "f5def6a3-8670-4fde-94e6-e7dc1c2d03ff",
   "metadata": {},
   "outputs": [],
   "source": [
    "df.release_date.fillna('', inplace=True)"
   ]
  },
  {
   "cell_type": "code",
   "execution_count": 37,
   "id": "31632ab2-8888-4f66-be5f-5065f0856496",
   "metadata": {},
   "outputs": [
    {
     "data": {
      "text/plain": [
       "0"
      ]
     },
     "execution_count": 37,
     "metadata": {},
     "output_type": "execute_result"
    }
   ],
   "source": [
    "df.release_date.isna().sum()"
   ]
  },
  {
   "cell_type": "markdown",
   "id": "8b50c326-9b2c-4292-9f07-34e63d19003b",
   "metadata": {},
   "source": [
    "we want to extract the year, and print it in the film's display name, and also use it in the metadata match rules below"
   ]
  },
  {
   "cell_type": "code",
   "execution_count": 38,
   "id": "9e66dd47-f837-4843-b488-090c2a7571d9",
   "metadata": {},
   "outputs": [],
   "source": [
    "def extract_year(date: str) -> str:\n",
    "    m = re.match(r'\\d\\d\\d\\d', date)\n",
    "    if m is None:\n",
    "        return ''\n",
    "    return int(m.group(0))\n",
    "\n",
    "df['year'] = df.release_date.map(extract_year)"
   ]
  },
  {
   "cell_type": "code",
   "execution_count": 39,
   "id": "dc24fc62-374f-4eb5-bcf4-dd7e7f8cb8f3",
   "metadata": {},
   "outputs": [
    {
     "data": {
      "text/plain": [
       "1252     1967\n",
       "10444    2004\n",
       "8994     1958\n",
       "7463     1975\n",
       "1910     1976\n",
       "         ... \n",
       "5699     2011\n",
       "10742    2009\n",
       "16921    1944\n",
       "25796    2009\n",
       "28847    1935\n",
       "Name: year, Length: 30000, dtype: object"
      ]
     },
     "execution_count": 39,
     "metadata": {},
     "output_type": "execute_result"
    }
   ],
   "source": [
    "df.year"
   ]
  },
  {
   "cell_type": "markdown",
   "id": "2f28be16-c9c3-491a-a3f7-344cff6c5553",
   "metadata": {},
   "source": [
    "notice there is a small amount of irregular release dates that we did not parse (<10%), and we will address then in future work"
   ]
  },
  {
   "cell_type": "code",
   "execution_count": 40,
   "id": "11346884-9587-4cb1-91ab-2534fefd0a0a",
   "metadata": {},
   "outputs": [
    {
     "data": {
      "text/plain": [
       "18124     \n",
       "19686     \n",
       "29697     \n",
       "21758     \n",
       "622       \n",
       "        ..\n",
       "6748      \n",
       "11180     \n",
       "16641     \n",
       "28962     \n",
       "27354     \n",
       "Name: release_date, Length: 1939, dtype: object"
      ]
     },
     "execution_count": 40,
     "metadata": {},
     "output_type": "execute_result"
    }
   ],
   "source": [
    "df[(df.year == '')].release_date"
   ]
  },
  {
   "cell_type": "markdown",
   "id": "ed143051-127e-4a99-aba2-94dbaf7df68b",
   "metadata": {},
   "source": [
    "## feature_length"
   ]
  },
  {
   "cell_type": "markdown",
   "id": "97280487-fe3d-4361-84bc-0fdb7faa4abd",
   "metadata": {},
   "source": [
    "we want the feture lengths to be  numbers, to compare them to e/o"
   ]
  },
  {
   "cell_type": "code",
   "execution_count": 41,
   "id": "75cb5608-dafb-48ae-90d6-9be79e3a7590",
   "metadata": {},
   "outputs": [],
   "source": [
    "df['feature_length'] = df.feature_length.map(lambda x: x if not x else float(x))"
   ]
  },
  {
   "cell_type": "markdown",
   "id": "a6f7fdc7-4ee2-471f-819d-06eac3d21f6f",
   "metadata": {},
   "source": [
    "# Embed columns"
   ]
  },
  {
   "cell_type": "markdown",
   "id": "0017f76f-2aac-4360-8220-9d87c0eca847",
   "metadata": {},
   "source": [
    "## useful funcs"
   ]
  },
  {
   "cell_type": "code",
   "execution_count": 42,
   "id": "949c5355-a73b-49c5-9466-840ae286bc2a",
   "metadata": {},
   "outputs": [],
   "source": [
    "BATCH_SZ = 300 # my GPU can't handle much more than this sz"
   ]
  },
  {
   "cell_type": "code",
   "execution_count": 43,
   "id": "68afac8d-d26f-4a2a-8378-880ef9a3dada",
   "metadata": {},
   "outputs": [
    {
     "data": {
      "text/plain": [
       "device(type='cuda', index=0)"
      ]
     },
     "execution_count": 43,
     "metadata": {},
     "output_type": "execute_result"
    }
   ],
   "source": [
    "if torch.cuda.is_available(): \n",
    "    dev = \"cuda:0\" \n",
    "else: \n",
    "    dev = \"cpu\" \n",
    "device = torch.device(dev) \n",
    "device"
   ]
  },
  {
   "cell_type": "code",
   "execution_count": 44,
   "id": "0c82ca4d-6f8b-4e3a-a216-a3d1402e3877",
   "metadata": {},
   "outputs": [],
   "source": [
    "#Mean Pooling - Take attention mask into account for correct averaging\n",
    "def mean_pooling(model_output, attention_mask):\n",
    "    token_embeddings = model_output[0] #First element of model_output contains all token embeddings\n",
    "    input_mask_expanded = attention_mask.unsqueeze(-1).expand(token_embeddings.size()).float()\n",
    "    return torch.sum(token_embeddings * input_mask_expanded, 1) / torch.clamp(input_mask_expanded.sum(1), min=1e-9)"
   ]
  },
  {
   "cell_type": "code",
   "execution_count": 45,
   "id": "b09f4194-4e68-494c-a9d3-df87e842605e",
   "metadata": {},
   "outputs": [],
   "source": [
    "# Load model from HuggingFace Hub\n",
    "english_tokenizer = AutoTokenizer.from_pretrained('sentence-transformers/all-MiniLM-L6-v2')\n",
    "english_model = AutoModel.from_pretrained('sentence-transformers/all-MiniLM-L6-v2').to(device)"
   ]
  },
  {
   "cell_type": "code",
   "execution_count": 46,
   "id": "e367d44f-3249-4b35-8f8a-da979a05c9d3",
   "metadata": {
    "scrolled": true,
    "tags": []
   },
   "outputs": [],
   "source": [
    "def embed_batch(texts: List[str], model=english_model, tokenizer=english_tokenizer) -> torch.Tensor:\n",
    "    # Clear GPU memory, sometimes helps\n",
    "    # gc.collect()\n",
    "    # torch.cuda.empty_cache()\n",
    "\n",
    "    # Tokenize sentences\n",
    "    encoded_input = tokenizer(texts, padding=True, truncation=True, return_tensors='pt')\n",
    "\n",
    "    encoded_input.to(device)\n",
    "    \n",
    "    # Compute token embeddings\n",
    "    with torch.no_grad():\n",
    "        model_output = model(**encoded_input)\n",
    "\n",
    "    # Perform pooling\n",
    "    sentence_embeddings = mean_pooling(model_output, encoded_input['attention_mask'])\n",
    "\n",
    "    # Normalize embeddings\n",
    "    sentence_embeddings = F.normalize(sentence_embeddings, p=2, dim=1)\n",
    "\n",
    "    return sentence_embeddings\n",
    "\n",
    "def embed(texts: List[str], batch_sz: int = BATCH_SZ, model=english_model, tokenizer=english_tokenizer) -> torch.Tensor:\n",
    "    embedding_batches = []\n",
    "    for batch_start in range(0, len(texts), batch_sz):\n",
    "        batched_texts = texts[batch_start: batch_start+batch_sz]\n",
    "    \n",
    "        embedding_batches.append(embed_batch(batched_texts, model=model, tokenizer=tokenizer))\n",
    "        \n",
    "    return torch.cat(embedding_batches).cpu()"
   ]
  },
  {
   "cell_type": "code",
   "execution_count": 47,
   "id": "9de780a9-acfb-43cb-950a-1c1b45ce2cb6",
   "metadata": {},
   "outputs": [],
   "source": [
    "def embed_column(vecs_path: str, column:str, model=english_model, tokenizer=english_tokenizer) -> torch.Tensor:\n",
    "    \"\"\"\n",
    "    embed, while caching embeddings on file\n",
    "    \"\"\"\n",
    "    if os.path.exists(vecs_path):\n",
    "        vecs = torch.load(vecs_path)\n",
    "    else:\n",
    "        texts = df[column].to_list()\n",
    "        print(f'embedding {len(texts)} {column} texts...')\n",
    "        vecs = embed(texts, model=model, tokenizer=tokenizer)\n",
    "        torch.save(vecs, vecs_path)        \n",
    "    return vecs"
   ]
  },
  {
   "cell_type": "markdown",
   "id": "7f0737f3-b5d4-41bc-95a9-91c96b9c5d92",
   "metadata": {},
   "source": [
    "##  embed plot"
   ]
  },
  {
   "cell_type": "code",
   "execution_count": 48,
   "id": "42b8268a-b0af-47aa-815c-6a076806d52b",
   "metadata": {},
   "outputs": [
    {
     "name": "stdout",
     "output_type": "stream",
     "text": [
      "CPU times: total: 78.1 ms\n",
      "Wall time: 23.9 ms\n"
     ]
    },
    {
     "data": {
      "text/plain": [
       "torch.Size([30000, 384])"
      ]
     },
     "execution_count": 48,
     "metadata": {},
     "output_type": "execute_result"
    }
   ],
   "source": [
    "%%time\n",
    "plot_vecs = embed_column('plot_vecs.pt', 'plot_summary', english_model, english_tokenizer)\n",
    "plot_vecs.shape"
   ]
  },
  {
   "cell_type": "markdown",
   "id": "2813c7e4-bcfd-4461-8394-f22529994c26",
   "metadata": {},
   "source": [
    "## Embed titles"
   ]
  },
  {
   "cell_type": "markdown",
   "id": "f4615b88-4834-4b6c-b987-300b1d71df7c",
   "metadata": {},
   "source": [
    "Load model from HuggingFace Hub - a multilingual model that works on (probably) all title languages, but is weaker than the English models"
   ]
  },
  {
   "cell_type": "code",
   "execution_count": 49,
   "id": "e95682f2-5869-4b2e-8a52-58d83ead6d9d",
   "metadata": {},
   "outputs": [
    {
     "name": "stderr",
     "output_type": "stream",
     "text": [
      "Downloading: 100%|██████████████████████████████████████████████████████████████████| 449M/449M [03:10<00:00, 2.47MB/s]\n"
     ]
    }
   ],
   "source": [
    "multi_tokenizer = AutoTokenizer.from_pretrained('sentence-transformers/paraphrase-multilingual-MiniLM-L12-v2')\n",
    "multi_model = AutoModel.from_pretrained('sentence-transformers/paraphrase-multilingual-MiniLM-L12-v2').to(device)"
   ]
  },
  {
   "cell_type": "code",
   "execution_count": 50,
   "id": "c9d618a9-9c93-4744-9024-ed787bd7e321",
   "metadata": {},
   "outputs": [
    {
     "name": "stdout",
     "output_type": "stream",
     "text": [
      "CPU times: total: 359 ms\n",
      "Wall time: 57.4 ms\n"
     ]
    },
    {
     "data": {
      "text/plain": [
       "torch.Size([30000, 384])"
      ]
     },
     "execution_count": 50,
     "metadata": {},
     "output_type": "execute_result"
    }
   ],
   "source": [
    "%%time\n",
    "title_vecs = embed_column('title_vecs.pt', 'title', multi_model, multi_tokenizer)\n",
    "title_vecs.shape"
   ]
  },
  {
   "cell_type": "markdown",
   "id": "82bdf4c9-5364-4658-9344-7413a259e8e9",
   "metadata": {},
   "source": [
    "## Embed the taggy columns (languages, genres, countries)"
   ]
  },
  {
   "cell_type": "markdown",
   "id": "9da58882-f7cd-4bfe-85a3-b189070ca2b9",
   "metadata": {},
   "source": [
    "I tried embedding these columns and combining them with the plot and title columns, but the results were worse than without the taggy columns. \n",
    "\n",
    "Also, in principle, it's unclear if these 3 columns should contirbute more as embeddings, than as hard criteria.\n",
    "\n",
    "So, in this final draft I use these columns only in simple filter rules - see below."
   ]
  },
  {
   "cell_type": "raw",
   "id": "c5aee26f-a709-4bb6-8da9-ecd426324fa4",
   "metadata": {},
   "source": [
    "## Embed languages\n",
    "\n",
    "each values is a tag list, \n",
    "so \n",
    "1. embed each unique tag once, \n",
    "2. convert each tag list to the average of the embeddings of the tags"
   ]
  },
  {
   "cell_type": "raw",
   "id": "bf7b430c-5330-4903-8118-3168ceff2381",
   "metadata": {},
   "source": [
    "### embed each unique tag once,"
   ]
  },
  {
   "cell_type": "raw",
   "id": "bd3011cd-2f40-4c16-aa41-00671ffbe8f6",
   "metadata": {},
   "source": [
    "EMBEDDING_DIM = embed(['something'])[0].shape[0]\n",
    "EMBEDDING_DIM"
   ]
  },
  {
   "cell_type": "raw",
   "id": "8797dddd-11a7-4660-a647-afa785db48e5",
   "metadata": {},
   "source": [
    "### Sanity test: see how English is most similar to closly related European languages, and distant from other ones'"
   ]
  },
  {
   "cell_type": "raw",
   "id": "28e58517-0dc8-4ddd-b36d-095fa53bf244",
   "metadata": {},
   "source": [
    "language_list = list(language_counter.keys())\n",
    "language_list[:10]"
   ]
  },
  {
   "cell_type": "raw",
   "id": "a8cb2d2c-95aa-4388-bb28-fe2d5ce70687",
   "metadata": {},
   "source": [
    "language_vecs = embed(language_list, model=english_model, tokenizer=english_tokenizer)\n"
   ]
  },
  {
   "cell_type": "raw",
   "id": "ec383f8b-9813-4f3e-b7e8-48604bdc2c45",
   "metadata": {},
   "source": [
    "lang2vec = {language: vec for language, vec in zip(language_list, language_vecs)}"
   ]
  },
  {
   "cell_type": "raw",
   "id": "51cd4071-7312-4a4c-af05-272e14f3a4cd",
   "metadata": {},
   "source": [
    "print('Sanity test: see how English is most similar to closly related European languages, and distant from other ones')\n",
    "np.inner(lang2vec['English'], torch.stack([lang2vec['French'], lang2vec['Polish'], lang2vec['Bengali'], lang2vec['Silent'], lang2vec['German']]))"
   ]
  },
  {
   "cell_type": "raw",
   "id": "c4357acd-353e-4dd3-9c6c-5764e22b30b0",
   "metadata": {},
   "source": [
    "### Notice that some films have 0 langugaes"
   ]
  },
  {
   "cell_type": "raw",
   "id": "0d470e91-b4da-4d12-9f16-b387259d4237",
   "metadata": {},
   "source": [
    "df.languages.map(len).value_counts()"
   ]
  },
  {
   "cell_type": "raw",
   "id": "52b0602d-b997-4af4-b656-e061844c98e1",
   "metadata": {},
   "source": [
    "### embed and average"
   ]
  },
  {
   "cell_type": "raw",
   "id": "0cccde46-def1-40df-af36-a3e7e99151b8",
   "metadata": {},
   "source": [
    "def embed_tags_column(col: str, col_counter: Counter) -> torch.Tensor:\n",
    "    \"\"\"\n",
    "    given a taggy column (languages/genres/countries), embed each value, as the average of the embeddings of the value's individual tags.\n",
    "    \"\"\"\n",
    "    \n",
    "    unique_tags = list(col_counter.keys())\n",
    "        \n",
    "    # embed each unique tag \n",
    "    tag_vecs = embed(unique_tags, model=english_model, tokenizer=english_tokenizer)\n",
    "    tag2vec = {tag: vec for tag, vec in zip(unique_tags, tag_vecs)}    \n",
    "    \n",
    "    # for each value, average the embeddings of its individual tags    \n",
    "    def average_tags(tags: Set) -> torch.Tensor:\n",
    "        if tags:\n",
    "            return torch.stack([tag2vec[tag] for tag in tags]).mean(dim=0)\n",
    "        else:\n",
    "            # if a film has  no listed tags, use a zeros vector\n",
    "            return torch.zeros(EMBEDDING_DIM)\n",
    "    col_vecs = torch.stack(df[col].map(average_tags).to_list())\n",
    "    \n",
    "    return col_vecs"
   ]
  },
  {
   "cell_type": "raw",
   "id": "cf77d973-cc08-4569-9b23-910bdc63a320",
   "metadata": {},
   "source": [
    "language_vecs = embed_tags_column('languages', language_counter)"
   ]
  },
  {
   "cell_type": "raw",
   "id": "3b07f76a-437a-441f-879d-9a0b365d6db8",
   "metadata": {},
   "source": [
    "## Embed Genres, like languages"
   ]
  },
  {
   "cell_type": "raw",
   "id": "4685a3d8-b8b8-43b6-862a-fd5a6d531fb8",
   "metadata": {},
   "source": [
    "genres_vecs = embed_tags_column('genres', genres_counter)"
   ]
  },
  {
   "cell_type": "raw",
   "id": "6bc45d77-10d1-42c8-85ba-19f816e6f4f9",
   "metadata": {},
   "source": [
    "## Embed Countries, like languages"
   ]
  },
  {
   "cell_type": "raw",
   "id": "9495fef2-ba0d-45ce-8c97-91c3841cbe62",
   "metadata": {},
   "source": [
    "countries_vecs = embed_tags_column('countries', countries_counter)"
   ]
  },
  {
   "cell_type": "markdown",
   "id": "89998b5f-2ab7-4e6f-a371-358270df380f",
   "metadata": {},
   "source": [
    "# Combine all embeddings into a single movie embedding"
   ]
  },
  {
   "cell_type": "markdown",
   "id": "89dc3de9-ae90-4ccb-b156-de38834d1025",
   "metadata": {},
   "source": [
    "I tested this approach of \"weighted average of embeddings of different fields\", but it performed relatievely poor, so these next blocks are commented out"
   ]
  },
  {
   "cell_type": "raw",
   "id": "1c1ad120-821d-4a9a-8de5-d6d51dc6dded",
   "metadata": {},
   "source": [
    "## make a weighted average of the different embedding componants, where each componant gets a weight corresponding to the importance I guess it roughly has in defining the content of a movie "
   ]
  },
  {
   "cell_type": "raw",
   "id": "0c0f3a8f-6c53-47b9-8a15-945669c7f98b",
   "metadata": {},
   "source": [
    "combined_vecs = F.normalize(0.1*title_vecs + 0.1*language_vecs + 0.8*plot_vecs)\n",
    "combined_vecs.shape"
   ]
  },
  {
   "cell_type": "markdown",
   "id": "eca44b5b-22d7-4843-a364-266e0570d220",
   "metadata": {
    "tags": []
   },
   "source": [
    "## Concatenate the plot embeddings with a reduced version of the title embeddings, \n",
    "\n",
    "We reduce dimensionality of the titles (to 50) for speed and performance gains, as well as weighting their relative importance to the plot. \n",
    "\n",
    "Future work: tune this magic number (50) against a labelled dataset of movie similarities.\n",
    "\n",
    "FYI I tested UMAP and PCA, and PCA gave more stable results and fast runtime. Future work: investigate into UMAP to learn why this is."
   ]
  },
  {
   "cell_type": "code",
   "execution_count": 51,
   "id": "68d9183d-72cc-417e-b14f-532c07f4f369",
   "metadata": {},
   "outputs": [
    {
     "name": "stdout",
     "output_type": "stream",
     "text": [
      "CPU times: total: 5.17 s\n",
      "Wall time: 538 ms\n"
     ]
    },
    {
     "data": {
      "text/plain": [
       "(30000, 50)"
      ]
     },
     "execution_count": 51,
     "metadata": {},
     "output_type": "execute_result"
    }
   ],
   "source": [
    "%%time\n",
    "title_vecs_d50 = PCA(50, copy=False, random_state=7).fit_transform(title_vecs)\n",
    "title_vecs_d50.shape"
   ]
  },
  {
   "cell_type": "markdown",
   "id": "ae0ab363-1cc0-4ed9-a5f3-a8dcd5668b34",
   "metadata": {},
   "source": [
    "Normalize"
   ]
  },
  {
   "cell_type": "code",
   "execution_count": 52,
   "id": "b57b6eba-8006-4afb-88cd-39bf5abe75b8",
   "metadata": {},
   "outputs": [
    {
     "data": {
      "text/plain": [
       "array([0.68486306, 0.60342383, 0.66650977, ..., 0.81209161, 0.59247032,\n",
       "       0.75792858])"
      ]
     },
     "execution_count": 52,
     "metadata": {},
     "output_type": "execute_result"
    }
   ],
   "source": [
    "np.linalg.norm(title_vecs_d50, axis=1)"
   ]
  },
  {
   "cell_type": "code",
   "execution_count": 53,
   "id": "d6520bf6-330f-49ad-abb4-e0a583ade73f",
   "metadata": {},
   "outputs": [],
   "source": [
    "title_vecs_d50 = F.normalize(torch.Tensor(title_vecs_d50))"
   ]
  },
  {
   "cell_type": "code",
   "execution_count": 54,
   "id": "4002272a-b95c-4eb9-8244-ac70dbc935c7",
   "metadata": {},
   "outputs": [
    {
     "data": {
      "text/plain": [
       "array([1.       , 0.9999999, 1.       , ..., 1.       , 1.       ,\n",
       "       1.       ], dtype=float32)"
      ]
     },
     "execution_count": 54,
     "metadata": {},
     "output_type": "execute_result"
    }
   ],
   "source": [
    "np.linalg.norm(title_vecs_d50, axis=1)"
   ]
  },
  {
   "cell_type": "code",
   "execution_count": 55,
   "id": "04f03bef-dd93-406b-b82e-3112b71133db",
   "metadata": {},
   "outputs": [],
   "source": [
    "torch.save(title_vecs_d50, 'title_vecs_d50.pt')"
   ]
  },
  {
   "cell_type": "markdown",
   "id": "47df63b4-f590-433a-a5c1-e527ddd2ab3d",
   "metadata": {},
   "source": [
    "## concate the metadata vecs with the plot vecs, and normalize"
   ]
  },
  {
   "cell_type": "code",
   "execution_count": 56,
   "id": "7f0c670a-ebb0-47b5-b745-cd4f4dde4e66",
   "metadata": {},
   "outputs": [
    {
     "data": {
      "text/plain": [
       "torch.Size([30000, 434])"
      ]
     },
     "execution_count": 56,
     "metadata": {},
     "output_type": "execute_result"
    }
   ],
   "source": [
    "combined_vecs = torch.cat([plot_vecs, title_vecs_d50], dim=1)\n",
    "combined_vecs = F.normalize(combined_vecs)\n",
    "combined_vecs.shape"
   ]
  },
  {
   "cell_type": "markdown",
   "id": "ebd61bba-ab0d-4f71-a819-36878f863af8",
   "metadata": {},
   "source": [
    "## save combined vecs"
   ]
  },
  {
   "cell_type": "code",
   "execution_count": 57,
   "id": "211e379e-f069-4f10-a51a-b908698f0d69",
   "metadata": {},
   "outputs": [],
   "source": [
    "torch.save(combined_vecs, 'combined_vecs.pt')"
   ]
  },
  {
   "cell_type": "markdown",
   "id": "df355b29-d890-417f-8379-145d14c24fce",
   "metadata": {},
   "source": [
    "# create display names"
   ]
  },
  {
   "cell_type": "code",
   "execution_count": 58,
   "id": "10ab6109-abdf-490b-a50d-4218c470a593",
   "metadata": {},
   "outputs": [],
   "source": [
    "df['display'] = df.apply(lambda row: f'{row.title} ({\"/\".join(row.countries)}, {row.year})', axis=1)"
   ]
  },
  {
   "cell_type": "code",
   "execution_count": 72,
   "id": "5571b9e4-1c28-432b-84c1-cc3989a6caea",
   "metadata": {},
   "outputs": [
    {
     "data": {
      "text/plain": [
       "1252                           Chiriyakhana (India, 1967)\n",
       "10444                                 Samba (India, 2004)\n",
       "8994       Born Reckless (United States of America, 1958)\n",
       "7463             Story of O (France/Canada/Germany, 1975)\n",
       "1910                Needhikku Thalaivanangu (India, 1976)\n",
       "                               ...                       \n",
       "5699                                   Khap (India, 2011)\n",
       "10742     The Answer Man (United States of America, 2009)\n",
       "16921     Bathing Beauty (United States of America, 1944)\n",
       "25796                       Pal Pal Dil Ke Ssaat (, 2009)\n",
       "28847    Beginner's Luck (United States of America, 1935)\n",
       "Name: display, Length: 30000, dtype: object"
      ]
     },
     "execution_count": 72,
     "metadata": {},
     "output_type": "execute_result"
    }
   ],
   "source": [
    "df.display"
   ]
  },
  {
   "cell_type": "markdown",
   "id": "04bdfe7b-76ca-4fcd-ad54-6643236cc947",
   "metadata": {},
   "source": [
    "# Define the similarity function"
   ]
  },
  {
   "cell_type": "markdown",
   "id": "e4ddc595-2cc8-4244-9dc6-3ec4e9f4d72b",
   "metadata": {},
   "source": [
    "## in order to lookup movie properties slim and fast, replace the pandas dataframe with a dict"
   ]
  },
  {
   "cell_type": "code",
   "execution_count": 60,
   "id": "c0a3089b-7d91-4f5c-bbcf-37d37d783e69",
   "metadata": {},
   "outputs": [],
   "source": [
    "df['genres'] = df.genres.map(set)\n",
    "df['countries'] = df.countries.map(set)\n",
    "df['languages'] = df.languages.map(set)"
   ]
  },
  {
   "cell_type": "code",
   "execution_count": 61,
   "id": "bf051402-9c5f-40a2-b4b7-c55a67e0730a",
   "metadata": {},
   "outputs": [
    {
     "data": {
      "text/html": [
       "<div>\n",
       "<style scoped>\n",
       "    .dataframe tbody tr th:only-of-type {\n",
       "        vertical-align: middle;\n",
       "    }\n",
       "\n",
       "    .dataframe tbody tr th {\n",
       "        vertical-align: top;\n",
       "    }\n",
       "\n",
       "    .dataframe thead th {\n",
       "        text-align: right;\n",
       "    }\n",
       "</style>\n",
       "<table border=\"1\" class=\"dataframe\">\n",
       "  <thead>\n",
       "    <tr style=\"text-align: right;\">\n",
       "      <th></th>\n",
       "      <th>languages</th>\n",
       "      <th>genres</th>\n",
       "      <th>title</th>\n",
       "      <th>release_date</th>\n",
       "      <th>countries</th>\n",
       "      <th>movie_box_office_revenue</th>\n",
       "      <th>plot_summary</th>\n",
       "      <th>feature_length</th>\n",
       "      <th>year</th>\n",
       "      <th>display</th>\n",
       "    </tr>\n",
       "  </thead>\n",
       "  <tbody>\n",
       "    <tr>\n",
       "      <th>1252</th>\n",
       "      <td>{Bengali}</td>\n",
       "      <td>{Thriller, Mystery}</td>\n",
       "      <td>Chiriyakhana</td>\n",
       "      <td>1967</td>\n",
       "      <td>{India}</td>\n",
       "      <td></td>\n",
       "      <td>The story revolves around a retired judge, Mr....</td>\n",
       "      <td>125.0</td>\n",
       "      <td>1967</td>\n",
       "      <td>Chiriyakhana (India, 1967)</td>\n",
       "    </tr>\n",
       "    <tr>\n",
       "      <th>10444</th>\n",
       "      <td>{Telugu}</td>\n",
       "      <td>{World cinema, Romance}</td>\n",
       "      <td>Samba</td>\n",
       "      <td>2004-06-09</td>\n",
       "      <td>{India}</td>\n",
       "      <td></td>\n",
       "      <td>Dharmayya Naidu  a underworld kingpin who lost...</td>\n",
       "      <td>145.0</td>\n",
       "      <td>2004</td>\n",
       "      <td>Samba (India, 2004)</td>\n",
       "    </tr>\n",
       "    <tr>\n",
       "      <th>8994</th>\n",
       "      <td>{English}</td>\n",
       "      <td>{Western}</td>\n",
       "      <td>Born Reckless</td>\n",
       "      <td>1958-11</td>\n",
       "      <td>{United States of America}</td>\n",
       "      <td></td>\n",
       "      <td>Kelly Cobb travels and performs in various cou...</td>\n",
       "      <td>80.0</td>\n",
       "      <td>1958</td>\n",
       "      <td>Born Reckless (United States of America, 1958)</td>\n",
       "    </tr>\n",
       "    <tr>\n",
       "      <th>7463</th>\n",
       "      <td>{Polish, English, French}</td>\n",
       "      <td>{World cinema, Drama, Romance}</td>\n",
       "      <td>Story of O</td>\n",
       "      <td>1975-08-26</td>\n",
       "      <td>{Canada, Germany, France}</td>\n",
       "      <td></td>\n",
       "      <td>A young woman fashion photographer known only ...</td>\n",
       "      <td>105.0</td>\n",
       "      <td>1975</td>\n",
       "      <td>Story of O (France/Canada/Germany, 1975)</td>\n",
       "    </tr>\n",
       "    <tr>\n",
       "      <th>1910</th>\n",
       "      <td>{Tamil}</td>\n",
       "      <td>{Drama}</td>\n",
       "      <td>Needhikku Thalaivanangu</td>\n",
       "      <td>1976-03-18</td>\n",
       "      <td>{India}</td>\n",
       "      <td></td>\n",
       "      <td>MGR acted as a college student who is very muc...</td>\n",
       "      <td></td>\n",
       "      <td>1976</td>\n",
       "      <td>Needhikku Thalaivanangu (India, 1976)</td>\n",
       "    </tr>\n",
       "  </tbody>\n",
       "</table>\n",
       "</div>"
      ],
      "text/plain": [
       "                       languages                          genres  \\\n",
       "1252                   {Bengali}             {Thriller, Mystery}   \n",
       "10444                   {Telugu}         {World cinema, Romance}   \n",
       "8994                   {English}                       {Western}   \n",
       "7463   {Polish, English, French}  {World cinema, Drama, Romance}   \n",
       "1910                     {Tamil}                         {Drama}   \n",
       "\n",
       "                         title release_date                   countries  \\\n",
       "1252              Chiriyakhana         1967                     {India}   \n",
       "10444                    Samba   2004-06-09                     {India}   \n",
       "8994             Born Reckless      1958-11  {United States of America}   \n",
       "7463                Story of O   1975-08-26   {Canada, Germany, France}   \n",
       "1910   Needhikku Thalaivanangu   1976-03-18                     {India}   \n",
       "\n",
       "      movie_box_office_revenue  \\\n",
       "1252                             \n",
       "10444                            \n",
       "8994                             \n",
       "7463                             \n",
       "1910                             \n",
       "\n",
       "                                            plot_summary feature_length  year  \\\n",
       "1252   The story revolves around a retired judge, Mr....          125.0  1967   \n",
       "10444  Dharmayya Naidu  a underworld kingpin who lost...          145.0  2004   \n",
       "8994   Kelly Cobb travels and performs in various cou...           80.0  1958   \n",
       "7463   A young woman fashion photographer known only ...          105.0  1975   \n",
       "1910   MGR acted as a college student who is very muc...                 1976   \n",
       "\n",
       "                                              display  \n",
       "1252                       Chiriyakhana (India, 1967)  \n",
       "10444                             Samba (India, 2004)  \n",
       "8994   Born Reckless (United States of America, 1958)  \n",
       "7463         Story of O (France/Canada/Germany, 1975)  \n",
       "1910            Needhikku Thalaivanangu (India, 1976)  "
      ]
     },
     "execution_count": 61,
     "metadata": {},
     "output_type": "execute_result"
    }
   ],
   "source": [
    "df.head()"
   ]
  },
  {
   "cell_type": "code",
   "execution_count": 86,
   "id": "c8f85ece-4b1b-4184-9580-9ad22f127d24",
   "metadata": {},
   "outputs": [
    {
     "ename": "TypeError",
     "evalue": "namedtuple() missing 1 required positional argument: 'field_names'",
     "output_type": "error",
     "traceback": [
      "\u001b[1;31m---------------------------------------------------------------------------\u001b[0m",
      "\u001b[1;31mTypeError\u001b[0m                                 Traceback (most recent call last)",
      "Input \u001b[1;32mIn [86]\u001b[0m, in \u001b[0;36m<cell line: 2>\u001b[1;34m()\u001b[0m\n\u001b[0;32m      1\u001b[0m \u001b[38;5;28;01mfrom\u001b[39;00m \u001b[38;5;21;01mcollections\u001b[39;00m \u001b[38;5;28;01mimport\u001b[39;00m namedtuple\n\u001b[1;32m----> 2\u001b[0m \u001b[43mnamedtuple\u001b[49m\u001b[43m(\u001b[49m\u001b[43m{\u001b[49m\u001b[38;5;241;43m1\u001b[39;49m\u001b[43m:\u001b[49m\u001b[38;5;241;43m2\u001b[39;49m\u001b[43m,\u001b[49m\u001b[43m \u001b[49m\u001b[38;5;241;43m3\u001b[39;49m\u001b[43m:\u001b[49m\u001b[38;5;241;43m4\u001b[39;49m\u001b[43m}\u001b[49m\u001b[43m)\u001b[49m\n",
      "\u001b[1;31mTypeError\u001b[0m: namedtuple() missing 1 required positional argument: 'field_names'"
     ]
    }
   ],
   "source": [
    "from collections import namedtuple\n",
    "namedtuple({1:2, 3:4})"
   ]
  },
  {
   "cell_type": "code",
   "execution_count": 111,
   "id": "d27e24b6-2bfe-4a05-92ae-dc7b7a3f3174",
   "metadata": {},
   "outputs": [
    {
     "data": {
      "text/plain": [
       "{'genres': {'Mystery', 'Thriller'},\n",
       " 'languages': {'Bengali'},\n",
       " 'countries': {'India'},\n",
       " 'year': 1967,\n",
       " 'feature_length': 125.0,\n",
       " 'display': 'Chiriyakhana (India, 1967)'}"
      ]
     },
     "execution_count": 111,
     "metadata": {},
     "output_type": "execute_result"
    }
   ],
   "source": [
    "index2metadata = df[['genres', 'languages', 'countries', 'year', 'feature_length', 'display']].to_dict('index')\n",
    "# MovieProps = namedtuple('MovieProps', ['genres', 'languages', 'countries', 'year', 'feature_length', 'display'])\n",
    "# index2metadata = df.apply(lambda row: MovieProps(row.genres, row.languages, row.countries, row.year, row.feature_length, row.display), axis=1).to_dict()\n",
    "index2metadata[1252]"
   ]
  },
  {
   "cell_type": "code",
   "execution_count": 99,
   "id": "46ae197b-57f9-4cdc-8c34-54a6196a923f",
   "metadata": {},
   "outputs": [
    {
     "data": {
      "text/plain": [
       "1967"
      ]
     },
     "execution_count": 99,
     "metadata": {},
     "output_type": "execute_result"
    }
   ],
   "source": [
    "index2metadata[1252].year"
   ]
  },
  {
   "cell_type": "markdown",
   "id": "bdb24036-8290-4f2f-8c68-3f106c2d073a",
   "metadata": {},
   "source": [
    "## The actual func"
   ]
  },
  {
   "cell_type": "code",
   "execution_count": 117,
   "id": "9bc25944-dbc6-4df4-a408-8aa5a24ae720",
   "metadata": {},
   "outputs": [],
   "source": [
    "def get_similar_movies(movie_ndx: int, num_recommendations: int=3) -> List[str]:\n",
    "    \"\"\"\n",
    "    get (an index to) a movie, and return (the display names of) its #{num_recommendations} most similar movies, by content.\n",
    "    \n",
    "    First, use dot product similarity (equivalent to cosine) to retrieve the movie's nearest neighbors among the combined_vecs.\n",
    "    \n",
    "    Second, filter the results according to metadata: each recommendation must have a matching genre, language and country, so that we Batman in English doesn't\n",
    "    get \"Batman XXX: a porn Parody\", nor a Batman movie in Hindi, nor a Batman movie from India. \n",
    "    Each recommendation must also be release with 30y of the query movie,\n",
    "    in order not to jump between eras, e.g., Batman of 1966 is not like the Batman of the 2000s.\n",
    "    Finally, the recommendtion feature length must be within 10x of the query movie's length, in order not to mix shorts with feature films, (not sure about this).    \n",
    "    \n",
    "    Future work: need to fine tune these criteria, ideally flex them as much as possible so as not to overfit. \n",
    "    \"\"\"\n",
    "    # 1. get most similar movie indices, by dot product (cosine) similarity\n",
    "    vec = combined_vecs[movie_ndx]\n",
    "    similarities = np.inner(vec, combined_vecs)\n",
    "    top_indices = list(reversed(np.argsort(similarities)))[1:] # remove #1 most similar, b/c it's (probably) the original title\n",
    "\n",
    "    # 2. filter the recommendations by matching the metadata \n",
    "    top_similar_display_names = []\n",
    "    query_movie = index2metadata[movie_ndx]\n",
    "    genres = query_movie['genres']\n",
    "    countries = query_movie['countries']\n",
    "    languages = query_movie['languages']\n",
    "    year = query_movie['year']\n",
    "    feature_length = query_movie['feature_length']\n",
    "    i = 0\n",
    "    while (len(top_similar_display_names) < num_recommendations) and (i < len(top_indices)):\n",
    "        recommendation = index2metadata[top_indices[i]]\n",
    "        recom_genres = recommendation['genres']\n",
    "        recom_countries = recommendation['countries']\n",
    "        recom_langugaes = recommendation['languages']\n",
    "        recom_year = recommendation['year']\n",
    "        recom_feature_length = recommendation['feature_length']\n",
    "                \n",
    "        if (   ((not genres) or (not recom_genres) or set.intersection(genres, recom_genres))\n",
    "           and ((not languages) or (not recom_langugaes) or set.intersection(languages, recom_langugaes))\n",
    "           and ((not countries) or (not recom_countries) or set.intersection(countries, recom_countries))\n",
    "           and ((not year) or (not recom_year) or (abs(year - recom_year) <= 30))\n",
    "           and ((not feature_length) or (not recom_feature_length) or (0.1 < (feature_length / recom_feature_length) < 10))\n",
    "           ):\n",
    "            top_similar_display_names.append(recommendation['display'])\n",
    "        i += 1\n",
    "    \n",
    "    return top_similar_display_names"
   ]
  },
  {
   "cell_type": "markdown",
   "id": "86d84cee-0c4b-48b8-9f2f-a3f5d736f726",
   "metadata": {},
   "source": [
    "## sanity tests:"
   ]
  },
  {
   "cell_type": "code",
   "execution_count": 118,
   "id": "920ed9ae-c042-40fd-876e-e3140bc355f6",
   "metadata": {},
   "outputs": [
    {
     "name": "stdout",
     "output_type": "stream",
     "text": [
      "Bambi (United States of America, 1942)\n"
     ]
    },
    {
     "data": {
      "text/plain": [
       "['Shenandoah (United States of America, 1965)',\n",
       " 'Mogambo (United States of America, 1953)',\n",
       " 'Baboo Band Baaja (, )',\n",
       " 'Little Black Sambo (, 1935)',\n",
       " 'Jungle Jingles (, 1929)',\n",
       " 'The Legend of Lobo (United States of America, 1962)',\n",
       " 'Jam (, )',\n",
       " 'Gee Whiz-z-z-z-z-z-z (United States of America, 1956)',\n",
       " 'Ebbie (United States of America/Canada, )',\n",
       " 'Jungle Book (United States of America, 1942)']"
      ]
     },
     "execution_count": 118,
     "metadata": {},
     "output_type": "execute_result"
    }
   ],
   "source": [
    "num_recommendations=10\n",
    "title = \"Bambi\"\n",
    "i = title2indices[title][0]\n",
    "print(df.loc[i].display)\n",
    "get_similar_movies(i, num_recommendations)"
   ]
  },
  {
   "cell_type": "code",
   "execution_count": 119,
   "id": "6dd67b01-f5ee-42db-8378-3960d47d035a",
   "metadata": {},
   "outputs": [
    {
     "name": "stdout",
     "output_type": "stream",
     "text": [
      "Batman (United States of America, 1966)\n"
     ]
    },
    {
     "data": {
      "text/plain": [
       "['Batman (United States of America/United Kingdom, 1989)',\n",
       " 'Batman Returns (United States of America/United Kingdom, 1992)',\n",
       " 'Adventures of Captain Marvel (United States of America, 1941)',\n",
       " 'Predator (United States of America, 1987)',\n",
       " 'Predator 2 (United States of America, 1990)',\n",
       " 'The Trial of the Incredible Hulk (United States of America, 1989)',\n",
       " 'Sniper (United States of America, 1993)',\n",
       " 'Deadly Heroes (United States of America, )',\n",
       " 'Hero at Large (United States of America, 1980)',\n",
       " 'Dracula: Dead and Loving It (France/United States of America, 1995)']"
      ]
     },
     "execution_count": 119,
     "metadata": {},
     "output_type": "execute_result"
    }
   ],
   "source": [
    "num_recommendations=10\n",
    "title = \"Batman\"\n",
    "i = title2indices[title][0]\n",
    "print(df.loc[i].display)\n",
    "get_similar_movies(i, num_recommendations)"
   ]
  },
  {
   "cell_type": "code",
   "execution_count": 120,
   "id": "e4aaabd7-b957-42ae-9d3c-232b056280b0",
   "metadata": {},
   "outputs": [
    {
     "name": "stdout",
     "output_type": "stream",
     "text": [
      "The Jungle Book (United States of America, 1994)\n"
     ]
    },
    {
     "data": {
      "text/plain": [
       "['The Jungle Book (United States of America, 1967)',\n",
       " 'The Second Jungle Book: Mowgli & Baloo (, 1997)',\n",
       " 'Jungle 2 Jungle (United States of America/France, 1997)',\n",
       " 'FernGully: The Last Rainforest (United States of America/Australia, 1992)',\n",
       " 'The Hidden Jungle (United States of America, 1990)',\n",
       " 'George of the Jungle 2 (United States of America/Australia, 2003)',\n",
       " 'George of the Jungle (United States of America, 1997)',\n",
       " 'Once Upon a Forest (United States of America/United Kingdom, 1993)',\n",
       " 'Tarzan (United States of America, 1999)',\n",
       " 'FernGully 2: The Magical Rescue (United States of America, 1998)']"
      ]
     },
     "execution_count": 120,
     "metadata": {},
     "output_type": "execute_result"
    }
   ],
   "source": [
    "num_recommendations=10\n",
    "title = \"The Jungle Book\"\n",
    "i = title2indices[title][0]\n",
    "print(df.loc[i].display)\n",
    "get_similar_movies(i, num_recommendations)"
   ]
  },
  {
   "cell_type": "code",
   "execution_count": 121,
   "id": "cab93ff9-ac1b-4cb7-b9ae-14018e1c381b",
   "metadata": {},
   "outputs": [
    {
     "name": "stdout",
     "output_type": "stream",
     "text": [
      "Rambo (United States of America/Germany, 2008)\n"
     ]
    },
    {
     "data": {
      "text/plain": [
       "['Rambo III (United States of America, 1988)',\n",
       " 'Rambo: First Blood Part II (United States of America, 1985)',\n",
       " 'Anaconda (United States of America/Brazil/Peru, 1997)',\n",
       " 'Pig Hunt (United States of America, 2008)',\n",
       " 'Delta Farce (United States of America, 2007)',\n",
       " 'Malibu Shark Attack (, 2009)',\n",
       " 'Vazhakku Enn 18/9 (, 2011)',\n",
       " 'Bushwhacked (United States of America, 1995)',\n",
       " 'Riverbend (United States of America, 1990)',\n",
       " 'Jayeebhava (, )']"
      ]
     },
     "execution_count": 121,
     "metadata": {},
     "output_type": "execute_result"
    }
   ],
   "source": [
    "num_recommendations=10\n",
    "title = \"Rambo\"\n",
    "i = title2indices[title][0]\n",
    "print(df.loc[i].display)\n",
    "get_similar_movies(i, num_recommendations)"
   ]
  },
  {
   "cell_type": "code",
   "execution_count": 122,
   "id": "de0d0e39-da29-456d-a050-33e24357a816",
   "metadata": {},
   "outputs": [
    {
     "name": "stdout",
     "output_type": "stream",
     "text": [
      "Toy Story (United States of America, 1995)\n"
     ]
    },
    {
     "data": {
      "text/plain": [
       "['Toys (United States of America, 1992)',\n",
       " 'The Toy (United States of America, 1982)',\n",
       " 'Little Monsters (United States of America, 1989)',\n",
       " 'Babes in Toyland (United States of America, 1999)',\n",
       " 'Barbie in the Nutcracker (United States of America, 2001)',\n",
       " 'Ah-sweet Mouse-story of Life (United States of America, )',\n",
       " 'Lego: The Adventures of Clutch Powers (United States of America, 2010)',\n",
       " \"Bugs Bunny's Christmas Carol (United States of America, 1979)\",\n",
       " 'Barbie: A Fairy Secret (, 2011)',\n",
       " 'Mazes and Monsters (United States of America, 1982)']"
      ]
     },
     "execution_count": 122,
     "metadata": {},
     "output_type": "execute_result"
    }
   ],
   "source": [
    "num_recommendations=10\n",
    "title = \"Toy Story\"\n",
    "i = title2indices[title][0]\n",
    "print(df.loc[i].display)\n",
    "get_similar_movies(i, num_recommendations)"
   ]
  },
  {
   "cell_type": "markdown",
   "id": "11e362a0-e1fe-4d72-8a91-37f1196d48f2",
   "metadata": {},
   "source": [
    "# Save all the production artifacts"
   ]
  },
  {
   "cell_type": "code",
   "execution_count": 123,
   "id": "ec39ac39-31d7-44a6-97ee-9d4ac10469c6",
   "metadata": {},
   "outputs": [],
   "source": [
    "torch.save(combined_vecs, 'combined_vecs.pt')"
   ]
  },
  {
   "cell_type": "code",
   "execution_count": 124,
   "id": "20baed44-ac99-4275-9a26-28ed78cd0b83",
   "metadata": {},
   "outputs": [],
   "source": [
    "with open('title2indices.pickle', 'wb') as f:\n",
    "    pickle.dump(title2indices, f)"
   ]
  },
  {
   "cell_type": "code",
   "execution_count": 125,
   "id": "1428196a-e4c0-4ea7-a1a1-839fc682e98a",
   "metadata": {},
   "outputs": [],
   "source": [
    "with open('index2metadata.pickle', 'wb') as f:\n",
    "    pickle.dump(index2metadata, f)"
   ]
  },
  {
   "cell_type": "markdown",
   "id": "b9d66c08-5bd2-4b6d-9b57-dae4ad017751",
   "metadata": {},
   "source": [
    "# wrap it in a client facing func, and export it with Flask"
   ]
  },
  {
   "cell_type": "code",
   "execution_count": 126,
   "id": "34070158-f6eb-4856-9e42-bdc4de5486f8",
   "metadata": {},
   "outputs": [],
   "source": [
    "app = Flask(__name__)\n",
    "\n",
    "@app.route('/<string:movie>/', methods=['GET', 'POST'])\n",
    "def get_similar_movies_(movie, num_recommendations=3):\n",
    "    title_indices = title2indices.get(movie)\n",
    "    if title_indices is None:\n",
    "        return f'Title is misspelled/unknown: {movie}'\n",
    "    return jsonify(\n",
    "        {index2metadata[i]['display']: get_similar_movies(i, num_recommendations)\n",
    "         for i in title_indices})"
   ]
  },
  {
   "cell_type": "markdown",
   "id": "e307beba-0d3e-407e-8a9f-838b6f4265c1",
   "metadata": {
    "tags": []
   },
   "source": [
    "## start Flask server. You can use this URL to get similar movies: \"http://localhost:105/movie title\"\n",
    "\n",
    "You can activate this cell and run it, or run the app.py file"
   ]
  },
  {
   "cell_type": "raw",
   "id": "7921d384-7df6-405a-be51-fd7eb121e934",
   "metadata": {},
   "source": [
    "if __name__ == '__main__':\n",
    "    app.run(host='0.0.0.0', port=105)"
   ]
  },
  {
   "cell_type": "markdown",
   "id": "39f660da-be67-4b43-a76c-b4b2cd586ea6",
   "metadata": {},
   "source": [
    "# Future work"
   ]
  },
  {
   "cell_type": "markdown",
   "id": "c105c4ab-294f-4ed2-a730-76e7aceeba62",
   "metadata": {},
   "source": [
    "tune the reduced dimension size of the titles (50), against a labelled dataset of movie similarities.\n",
    "\n",
    "reduce dimensionality of the combined_vecs, for better speed and smaller memory footprint.\n",
    "\n",
    "notice there is a small amount of irregular release dates that we did not parse (<10%), as well as a bit of similar noise in other columns, and we will clean them in future work.\n",
    "\n",
    "replace the  'movies_df.csv'  with a dict, in order to remove the pandas import in app.py\n",
    "\n",
    "need to tune the manual metadata criteria, ideally flex them as much as possible so as not to overfit. \n",
    "\n"
   ]
  },
  {
   "cell_type": "code",
   "execution_count": null,
   "id": "1d01c460-7303-41cd-b06c-27dc7b708244",
   "metadata": {},
   "outputs": [],
   "source": []
  }
 ],
 "metadata": {
  "kernelspec": {
   "display_name": "Python 3 (ipykernel)",
   "language": "python",
   "name": "python3"
  },
  "language_info": {
   "codemirror_mode": {
    "name": "ipython",
    "version": 3
   },
   "file_extension": ".py",
   "mimetype": "text/x-python",
   "name": "python",
   "nbconvert_exporter": "python",
   "pygments_lexer": "ipython3",
   "version": "3.10.4"
  }
 },
 "nbformat": 4,
 "nbformat_minor": 5
}
